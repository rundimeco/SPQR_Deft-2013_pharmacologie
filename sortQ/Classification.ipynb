{
 "cells": [
  {
   "cell_type": "code",
   "execution_count": null,
   "metadata": {},
   "outputs": [],
   "source": [
    "import spacy\n",
    "\n",
    "# Load spaCy's French language model\n",
    "nlp = spacy.load(\"fr_core_news_sm\")"
   ]
  },
  {
   "cell_type": "code",
   "execution_count": null,
   "metadata": {},
   "outputs": [],
   "source": [
    "# Determination of similarity between two sentences\n",
    "def similarity(question1, question2):\n",
    "    doc1 = nlp(question1)\n",
    "    doc2 = nlp(question2)\n",
    "    return doc1.similarity(doc2)\n",
    "\n",
    "# Rid of similar sentences\n",
    "def similarityTest(question, Questions):\n",
    "    for i in range(len(Questions)):\n",
    "        if similarity(question, Questions[i])>0.8:\n",
    "            return True \n",
    "    return False "
   ]
  },
  {
   "cell_type": "code",
   "execution_count": null,
   "metadata": {},
   "outputs": [],
   "source": [
    "import csv\n",
    "import os.path\n",
    "\n",
    "path = './fragP1.txt'\n",
    "\n",
    "check_file = os.path.isfile(path)\n",
    "\n",
    "if not check_file:\n",
    "    with open(\"../data/csv/train.csv\", \"r\") as f:\n",
    "        reader = csv.reader(f, delimiter=\";\")\n",
    "        cpt  = 0\n",
    "        fragP1 = []\n",
    "        # Load questions\n",
    "        for i, line in enumerate(reader):\n",
    "            if(cpt>0):\n",
    "                qst = line[1]\n",
    "                # questions fragmentation according to \",\"\n",
    "                fragQst = qst.split(\",\")\n",
    "                if not similarityTest(fragQst[0], fragP1):\n",
    "                    fragP1.append(fragQst)\n",
    "            cpt = cpt +1\n",
    "    print(len(fragP1))\n",
    "    file = open('fragP1.txt','w')\n",
    "    for item in fragP1:\n",
    "            file.write(item+\"\\n\")     \n",
    "    file.close()\n",
    "else: # load first part of the questions\n",
    "    file = open('fragP1.txt','r')\n",
    "    listQsts = file.readlines()\n",
    "    file.close()\n",
    "    print(len(listQsts))\n"
   ]
  }
 ],
 "metadata": {
  "kernelspec": {
   "display_name": "Python 3",
   "language": "python",
   "name": "python3"
  },
  "language_info": {
   "codemirror_mode": {
    "name": "ipython",
    "version": 3
   },
   "file_extension": ".py",
   "mimetype": "text/x-python",
   "name": "python",
   "nbconvert_exporter": "python",
   "pygments_lexer": "ipython3",
   "version": "3.10.6"
  },
  "orig_nbformat": 4
 },
 "nbformat": 4,
 "nbformat_minor": 2
}
