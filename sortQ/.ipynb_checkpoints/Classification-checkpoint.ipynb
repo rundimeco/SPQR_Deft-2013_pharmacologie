{
 "cells": [
  {
   "cell_type": "code",
   "execution_count": 1,
   "metadata": {},
   "outputs": [],
   "source": [
    "import spacy\n",
    "\n",
    "# Load spaCy's French language model\n",
    "nlp = spacy.load(\"fr_core_news_sm\")"
   ]
  },
  {
   "cell_type": "code",
   "execution_count": 13,
   "metadata": {},
   "outputs": [],
   "source": [
    "# Determination of similarity between two sentences\n",
    "def similarity(question1, question2):\n",
    "    doc1 = nlp(question1)\n",
    "    doc2 = nlp(question2)\n",
    "    return doc1.similarity(doc2)\n",
    "\n",
    "# Rid of similar sentences\n",
    "def similarityTest(question, Questions):\n",
    "    for i in range(len(Questions)):\n",
    "        if similarity(question, Questions[i])>0.8:\n",
    "            return True \n",
    "    return False "
   ]
  },
  {
   "cell_type": "code",
   "execution_count": 16,
   "metadata": {},
   "outputs": [
    {
     "ename": "IndexError",
     "evalue": "list index out of range",
     "output_type": "error",
     "traceback": [
      "\u001b[0;31m---------------------------------------------------------------------------\u001b[0m",
      "\u001b[0;31mIndexError\u001b[0m                                Traceback (most recent call last)",
      "Cell \u001b[0;32mIn[16], line 19\u001b[0m\n\u001b[1;32m     17\u001b[0m     \u001b[38;5;66;03m# questions fragmentation according to \",\"\u001b[39;00m\n\u001b[1;32m     18\u001b[0m     fragQst \u001b[38;5;241m=\u001b[39m qst\u001b[38;5;241m.\u001b[39msplit(\u001b[38;5;124m\"\u001b[39m\u001b[38;5;124m,\u001b[39m\u001b[38;5;124m\"\u001b[39m)\n\u001b[0;32m---> 19\u001b[0m     \u001b[38;5;28;01mif\u001b[39;00m \u001b[38;5;129;01mnot\u001b[39;00m similarityTest(fragQst[\u001b[38;5;241m0\u001b[39m], \u001b[43mfragP1\u001b[49m\u001b[43m[\u001b[49m\u001b[38;5;241;43m0\u001b[39;49m\u001b[43m]\u001b[49m):\n\u001b[1;32m     20\u001b[0m         fragP1\u001b[38;5;241m.\u001b[39mappend(fragQst)\n\u001b[1;32m     21\u001b[0m cpt \u001b[38;5;241m=\u001b[39m cpt \u001b[38;5;241m+\u001b[39m\u001b[38;5;241m1\u001b[39m\n",
      "\u001b[0;31mIndexError\u001b[0m: list index out of range"
     ]
    }
   ],
   "source": [
    "import csv\n",
    "import os.path\n",
    "\n",
    "path = './fragP1.txt'\n",
    "\n",
    "check_file = os.path.isfile(path)\n",
    "\n",
    "if not check_file:\n",
    "    with open(\"../data/csv/train.csv\", \"r\") as f:\n",
    "        reader = csv.reader(f, delimiter=\";\")\n",
    "        cpt  = 0\n",
    "        fragP1 = []\n",
    "        # Load questions\n",
    "        for i, line in enumerate(reader):\n",
    "            if(cpt>0):\n",
    "                qst = line[1]\n",
    "                # questions fragmentation according to \",\"\n",
    "                fragQst = qst.split(\",\")\n",
    "                if not similarityTest(fragQst[0], fragP1):\n",
    "                    fragP1.append(fragQst)\n",
    "            cpt = cpt +1\n",
    "    print(len(fragP1))\n",
    "    file = open('fragP1.txt','w')\n",
    "    for item in fragP1:\n",
    "            file.write(item+\"\\n\")     \n",
    "    file.close()\n",
    "else: # load first part of the questions\n",
    "    file = open('fragP1.txt','r')\n",
    "    listQsts = file.readlines()\n",
    "    file.close()\n",
    "    print(len(listQsts))\n"
   ]
  }
 ],
 "metadata": {
  "kernelspec": {
   "display_name": "DEFT2023",
   "language": "python",
   "name": "deft2023"
  },
  "language_info": {
   "codemirror_mode": {
    "name": "ipython",
    "version": 3
   },
   "file_extension": ".py",
   "mimetype": "text/x-python",
   "name": "python",
   "nbconvert_exporter": "python",
   "pygments_lexer": "ipython3",
   "version": "3.10.6"
  }
 },
 "nbformat": 4,
 "nbformat_minor": 2
}
