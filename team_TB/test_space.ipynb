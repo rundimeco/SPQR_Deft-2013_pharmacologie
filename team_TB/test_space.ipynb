{
 "cells": [
  {
   "cell_type": "code",
   "execution_count": 4,
   "metadata": {},
   "outputs": [],
   "source": [
    "import re\n",
    "from collections import Counter"
   ]
  },
  {
   "cell_type": "code",
   "execution_count": 5,
   "metadata": {},
   "outputs": [],
   "source": [
    "def count_words(keywordQ, KwCorpus):\n",
    "    word_counter = Counter()\n",
    "    cpt = 0\n",
    "    for word in keywordQ:\n",
    "        word_singular = re.sub(r's$', '', word) \n",
    "        word_plural = word_singular + 's' \n",
    "        word_counter[word] = 0\n",
    "        word_counter[word_singular] = 0\n",
    "        word_counter[word_plural] = 0\n",
    "\n",
    "    for text in KwCorpus:\n",
    "        for word in word_counter:\n",
    "            if re.search(r'\\b{}\\b'.format(word), text, re.IGNORECASE):\n",
    "                cpt += 1\n",
    "                word_counter[word] += 1\n",
    "    print(word_counter)\n",
    "    return cpt"
   ]
  },
  {
   "cell_type": "code",
   "execution_count": 6,
   "metadata": {},
   "outputs": [
    {
     "name": "stdout",
     "output_type": "stream",
     "text": [
      "Counter({'éthanol': 1, 'éthanols': 0})\n",
      "1\n"
     ]
    }
   ],
   "source": [
    "import re\n",
    "keywordQP = ['éthanol']\n",
    "keywordA = [\"intoxication\",\"aigu\",\"méthanol\",\"consister\",\"éthanol\"]\n",
    "nwQstp = \"Le crack est une forme de cocaïne.\"\n",
    "# text_list = [\"adrénaline\",\"anesthésique\",\"médicament\",\"anesthésie\",\"péridurale\"]\n",
    "rateAP = count_words(keywordQP, keywordA)\n",
    "print(rateAP)\n",
    "# # print(indxA)\n"
   ]
  },
  {
   "cell_type": "code",
   "execution_count": 23,
   "metadata": {},
   "outputs": [],
   "source": [
    "import spacy\n",
    "nlp = spacy.load(\"fr_core_news_sm\")\n",
    "\n",
    "def RecoverListMed(qst):\n",
    "    listMed = []\n",
    "    qst = qst.lstrip()\n",
    "    qst = qst.rstrip()\n",
    "    qst = qst.replace('(',\"\")\n",
    "    qst = qst.replace(')',\"\")\n",
    "    liste = \"./input/listeMotsFR_Auto.txt\"\n",
    "    with open(liste,'r',encoding='utf-8') as f:\n",
    "        liste_mots = [line.rstrip('\\n').lower() for line in f]\n",
    "    doc = nlp(qst.lower())\n",
    "    for token in doc:\n",
    "        # print(token.text)\n",
    "        # print(token.lemma_)\n",
    "        if token.lemma_ not in liste_mots and token.text not in listMed and not \"\":\n",
    "            listMed.append(token.text)\n",
    "    if listMed==[]:\n",
    "        listMed = ['']\n",
    "    return listMed"
   ]
  },
  {
   "cell_type": "code",
   "execution_count": 27,
   "metadata": {},
   "outputs": [
    {
     "name": "stdout",
     "output_type": "stream",
     "text": [
      "repose\n",
      "repose\n",
      "['repose']\n"
     ]
    }
   ],
   "source": [
    "qst = \"expose\"\n",
    "lst = RecoverListMed(qst)\n",
    "print(lst)"
   ]
  }
 ],
 "metadata": {
  "kernelspec": {
   "display_name": "Python 3",
   "language": "python",
   "name": "python3"
  },
  "language_info": {
   "codemirror_mode": {
    "name": "ipython",
    "version": 3
   },
   "file_extension": ".py",
   "mimetype": "text/x-python",
   "name": "python",
   "nbconvert_exporter": "python",
   "pygments_lexer": "ipython3",
   "version": "3.10.6"
  },
  "orig_nbformat": 4
 },
 "nbformat": 4,
 "nbformat_minor": 2
}
