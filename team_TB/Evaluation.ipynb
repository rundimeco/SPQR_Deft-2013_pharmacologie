{
 "cells": [
  {
   "cell_type": "code",
   "execution_count": null,
   "metadata": {},
   "outputs": [],
   "source": [
    "from evaluationFcts import * \n",
    "import pandas as pd "
   ]
  },
  {
   "cell_type": "code",
   "execution_count": null,
   "metadata": {},
   "outputs": [],
   "source": [
    "df = pd.read_csv(\"./input/csv/dev.csv\",delimiter=\";\")\n",
    "refs = df[\"correct_answers\"]\n",
    "# \n",
    "dfs = pd.read_csv(\"./output/tachePrincipale.csv\",delimiter=\";\")\n",
    "preds = df[\"correct_answers\"]"
   ]
  },
  {
   "cell_type": "code",
   "execution_count": null,
   "metadata": {},
   "outputs": [],
   "source": [
    "sol = exactMatch_accuracy(preds, refs)\n",
    "print(sol)\n",
    "ham_sol = hamming_accuracy(preds, refs)\n",
    "print(ham_sol)\n",
    "hamming_scores = [hamming_accuracy(r, p) for r, p in zip(refs, preds)]\n",
    "hamming_score = sum(hamming_scores) / len(hamming_scores)\n",
    "print(hamming_score)"
   ]
  }
 ],
 "metadata": {
  "language_info": {
   "name": "python"
  },
  "orig_nbformat": 4
 },
 "nbformat": 4,
 "nbformat_minor": 2
}
