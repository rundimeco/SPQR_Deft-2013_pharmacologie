{
 "cells": [
  {
   "cell_type": "code",
   "execution_count": 13,
   "metadata": {},
   "outputs": [],
   "source": [
    "from EvaluationFcts import * \n",
    "import pandas as pd "
   ]
  },
  {
   "cell_type": "code",
   "execution_count": 14,
   "metadata": {},
   "outputs": [],
   "source": [
    "namefile =\"dev\"\n",
    "df = pd.read_csv(\"./input/csv/dev.csv\",delimiter=\";\")\n",
    "refs = df[\"correct_answers\"]\n",
    "# \n",
    "dfs = pd.read_csv(f\"./output/tachePrincipale{namefile}.csv\",delimiter=\";\")\n",
    "preds = dfs[\"correct_answers\"]"
   ]
  },
  {
   "cell_type": "code",
   "execution_count": 15,
   "metadata": {},
   "outputs": [
    {
     "name": "stdout",
     "output_type": "stream",
     "text": [
      "312\n",
      "312\n"
     ]
    }
   ],
   "source": [
    "print(len(preds))\n",
    "print(len(refs))"
   ]
  },
  {
   "cell_type": "code",
   "execution_count": 36,
   "metadata": {},
   "outputs": [
    {
     "name": "stdout",
     "output_type": "stream",
     "text": [
      "0.035256410256410256\n",
      "0.0\n"
     ]
    },
    {
     "ename": "TypeError",
     "evalue": "argument of type 'float' is not iterable",
     "output_type": "error",
     "traceback": [
      "\u001b[0;31m---------------------------------------------------------------------------\u001b[0m",
      "\u001b[0;31mTypeError\u001b[0m                                 Traceback (most recent call last)",
      "\u001b[1;32m/home/amani/Downloads/SPQR_Deft-2013_pharmacologie/team_TB/Evaluation.ipynb Cell 5\u001b[0m in \u001b[0;36m<cell line: 5>\u001b[0;34m()\u001b[0m\n\u001b[1;32m      <a href='vscode-notebook-cell:/home/amani/Downloads/SPQR_Deft-2013_pharmacologie/team_TB/Evaluation.ipynb#W2sZmlsZQ%3D%3D?line=2'>3</a>\u001b[0m ham_sol \u001b[39m=\u001b[39m hamming_accuracy(preds, refs)\n\u001b[1;32m      <a href='vscode-notebook-cell:/home/amani/Downloads/SPQR_Deft-2013_pharmacologie/team_TB/Evaluation.ipynb#W2sZmlsZQ%3D%3D?line=3'>4</a>\u001b[0m \u001b[39mprint\u001b[39m(ham_sol)\n\u001b[0;32m----> <a href='vscode-notebook-cell:/home/amani/Downloads/SPQR_Deft-2013_pharmacologie/team_TB/Evaluation.ipynb#W2sZmlsZQ%3D%3D?line=4'>5</a>\u001b[0m hamming_scores \u001b[39m=\u001b[39m [hamming_accuracy(r, p) \u001b[39mfor\u001b[39;00m r, p \u001b[39min\u001b[39;00m \u001b[39mzip\u001b[39m(refs, preds)]\n\u001b[1;32m      <a href='vscode-notebook-cell:/home/amani/Downloads/SPQR_Deft-2013_pharmacologie/team_TB/Evaluation.ipynb#W2sZmlsZQ%3D%3D?line=5'>6</a>\u001b[0m hamming_score \u001b[39m=\u001b[39m \u001b[39msum\u001b[39m(hamming_scores) \u001b[39m/\u001b[39m \u001b[39mlen\u001b[39m(hamming_scores)\n\u001b[1;32m      <a href='vscode-notebook-cell:/home/amani/Downloads/SPQR_Deft-2013_pharmacologie/team_TB/Evaluation.ipynb#W2sZmlsZQ%3D%3D?line=6'>7</a>\u001b[0m \u001b[39mprint\u001b[39m(hamming_score)\n",
      "\u001b[1;32m/home/amani/Downloads/SPQR_Deft-2013_pharmacologie/team_TB/Evaluation.ipynb Cell 5\u001b[0m in \u001b[0;36m<listcomp>\u001b[0;34m(.0)\u001b[0m\n\u001b[1;32m      <a href='vscode-notebook-cell:/home/amani/Downloads/SPQR_Deft-2013_pharmacologie/team_TB/Evaluation.ipynb#W2sZmlsZQ%3D%3D?line=2'>3</a>\u001b[0m ham_sol \u001b[39m=\u001b[39m hamming_accuracy(preds, refs)\n\u001b[1;32m      <a href='vscode-notebook-cell:/home/amani/Downloads/SPQR_Deft-2013_pharmacologie/team_TB/Evaluation.ipynb#W2sZmlsZQ%3D%3D?line=3'>4</a>\u001b[0m \u001b[39mprint\u001b[39m(ham_sol)\n\u001b[0;32m----> <a href='vscode-notebook-cell:/home/amani/Downloads/SPQR_Deft-2013_pharmacologie/team_TB/Evaluation.ipynb#W2sZmlsZQ%3D%3D?line=4'>5</a>\u001b[0m hamming_scores \u001b[39m=\u001b[39m [hamming_accuracy(r, p) \u001b[39mfor\u001b[39;00m r, p \u001b[39min\u001b[39;00m \u001b[39mzip\u001b[39m(refs, preds)]\n\u001b[1;32m      <a href='vscode-notebook-cell:/home/amani/Downloads/SPQR_Deft-2013_pharmacologie/team_TB/Evaluation.ipynb#W2sZmlsZQ%3D%3D?line=5'>6</a>\u001b[0m hamming_score \u001b[39m=\u001b[39m \u001b[39msum\u001b[39m(hamming_scores) \u001b[39m/\u001b[39m \u001b[39mlen\u001b[39m(hamming_scores)\n\u001b[1;32m      <a href='vscode-notebook-cell:/home/amani/Downloads/SPQR_Deft-2013_pharmacologie/team_TB/Evaluation.ipynb#W2sZmlsZQ%3D%3D?line=6'>7</a>\u001b[0m \u001b[39mprint\u001b[39m(hamming_score)\n",
      "File \u001b[0;32m~/Downloads/SPQR_Deft-2013_pharmacologie/team_TB/EvaluationFcts.py:11\u001b[0m, in \u001b[0;36mhamming_accuracy\u001b[0;34m(preds, refs)\u001b[0m\n\u001b[1;32m     10\u001b[0m \u001b[39mdef\u001b[39;00m \u001b[39mhamming_accuracy\u001b[39m(preds, refs):\n\u001b[0;32m---> 11\u001b[0m     corrects \u001b[39m=\u001b[39m [\u001b[39mTrue\u001b[39;00m \u001b[39mfor\u001b[39;00m p \u001b[39min\u001b[39;00m preds \u001b[39mif\u001b[39;00m p \u001b[39min\u001b[39;00m refs]\n\u001b[1;32m     12\u001b[0m     corrects \u001b[39m=\u001b[39m \u001b[39msum\u001b[39m(corrects)\n\u001b[1;32m     13\u001b[0m     total_refs \u001b[39m=\u001b[39m \u001b[39mlen\u001b[39m(\u001b[39mlist\u001b[39m(\u001b[39mset\u001b[39m(preds \u001b[39m+\u001b[39m refs)))\n",
      "File \u001b[0;32m~/Downloads/SPQR_Deft-2013_pharmacologie/team_TB/EvaluationFcts.py:11\u001b[0m, in \u001b[0;36m<listcomp>\u001b[0;34m(.0)\u001b[0m\n\u001b[1;32m     10\u001b[0m \u001b[39mdef\u001b[39;00m \u001b[39mhamming_accuracy\u001b[39m(preds, refs):\n\u001b[0;32m---> 11\u001b[0m     corrects \u001b[39m=\u001b[39m [\u001b[39mTrue\u001b[39;00m \u001b[39mfor\u001b[39;00m p \u001b[39min\u001b[39;00m preds \u001b[39mif\u001b[39;00m p \u001b[39min\u001b[39;49;00m refs]\n\u001b[1;32m     12\u001b[0m     corrects \u001b[39m=\u001b[39m \u001b[39msum\u001b[39m(corrects)\n\u001b[1;32m     13\u001b[0m     total_refs \u001b[39m=\u001b[39m \u001b[39mlen\u001b[39m(\u001b[39mlist\u001b[39m(\u001b[39mset\u001b[39m(preds \u001b[39m+\u001b[39m refs)))\n",
      "\u001b[0;31mTypeError\u001b[0m: argument of type 'float' is not iterable"
     ]
    }
   ],
   "source": [
    "sol = exactMatch_accuracy(preds, refs)\n",
    "print(sol)\n",
    "ham_sol = hamming_accuracy(preds, refs)\n",
    "print(ham_sol)\n",
    "hamming_scores = [hamming_accuracy(r, p) for r, p in zip(refs, preds)]\n",
    "hamming_score = sum(hamming_scores) / len(hamming_scores)\n",
    "print(hamming_score)"
   ]
  }
 ],
 "metadata": {
  "kernelspec": {
   "display_name": "Python 3",
   "language": "python",
   "name": "python3"
  },
  "language_info": {
   "codemirror_mode": {
    "name": "ipython",
    "version": 3
   },
   "file_extension": ".py",
   "mimetype": "text/x-python",
   "name": "python",
   "nbconvert_exporter": "python",
   "pygments_lexer": "ipython3",
   "version": "3.10.6"
  },
  "orig_nbformat": 4
 },
 "nbformat": 4,
 "nbformat_minor": 2
}
