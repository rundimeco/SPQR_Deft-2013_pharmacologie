{
 "cells": [
  {
   "cell_type": "code",
   "execution_count": null,
   "metadata": {},
   "outputs": [],
   "source": [
    "from processingQst import *\n",
    "from tqdm import tqdm\n",
    "from operator import length_hint\n",
    "import json"
   ]
  },
  {
   "cell_type": "code",
   "execution_count": null,
   "metadata": {},
   "outputs": [],
   "source": [
    "with open('input/manuelMerkSentence_cp.json', 'r') as f:\n",
    "    data = json.load(f)\n",
    "\n",
    "data_list = []"
   ]
  },
  {
   "cell_type": "code",
   "execution_count": null,
   "metadata": {},
   "outputs": [],
   "source": [
    "for cpt in tqdm(range(len(data))):\n",
    "    qst = data[cpt]\n",
    "    nwQst = ''\n",
    "    listMed = []\n",
    "    listMedAll = []\n",
    "    ListMedAns = ''\n",
    "    Spword = False\n",
    "\n",
    "    qst = del_betParenthese(qst)\n",
    "    fragQst = splitQst(qst)\n",
    "\n",
    "    for icpt in range(len(fragQst)):\n",
    "            # Récupérer les fragements qui contiennent les infos médicales uniquement \n",
    "            if not (fragQst[icpt]==''):\n",
    "                nwQst,Spword,listMed = recoverMedFrag(fragQst,icpt,nwQst,Spword)\n",
    "                listMedAll.extend(listMed)\n",
    "    nwQst = nwQst.lstrip()\n",
    "\n",
    "    data_dict = {'keywords': listMedAll, 'sentence': nwQst}\n",
    "    data_list.append(data_dict)\n",
    "    nwQstp = ''\n",
    "    ListMedAll = ''"
   ]
  },
  {
   "cell_type": "code",
   "execution_count": 5,
   "metadata": {},
   "outputs": [],
   "source": [
    "writeJson(\"output/corpusMerck.json\",data_list)"
   ]
  }
 ],
 "metadata": {
  "kernelspec": {
   "display_name": "Python 3",
   "language": "python",
   "name": "python3"
  },
  "language_info": {
   "codemirror_mode": {
    "name": "ipython",
    "version": 3
   },
   "file_extension": ".py",
   "mimetype": "text/x-python",
   "name": "python",
   "nbconvert_exporter": "python",
   "pygments_lexer": "ipython3",
   "version": "3.10.6"
  },
  "orig_nbformat": 4
 },
 "nbformat": 4,
 "nbformat_minor": 2
}
