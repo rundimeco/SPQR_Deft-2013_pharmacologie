{
 "cells": [
  {
   "cell_type": "code",
   "execution_count": 7,
   "metadata": {},
   "outputs": [],
   "source": [
    "import pandas as pd\n",
    "data_list = []"
   ]
  },
  {
   "cell_type": "code",
   "execution_count": 8,
   "metadata": {},
   "outputs": [],
   "source": [
    "namefile = \"dev\"\n",
    "# namefile = \"train\"\n",
    "df = pd.read_csv(f\"./input/csv/{namefile}.csv\",delimiter=\";\")\n",
    "\n",
    "id  = df[\"id\"]\n",
    "nbrRep = df[\"nbr_correct_answers\"]\n",
    "RepListIndx = df[\"correct_answers\"]"
   ]
  },
  {
   "cell_type": "code",
   "execution_count": 9,
   "metadata": {},
   "outputs": [],
   "source": [
    "for cpt in range(len(id)):\n",
    "    data_dict = {'id': id[cpt], 'correct_answers': RepListIndx[cpt]}\n",
    "    data_list.append(data_dict)\n",
    "    \n",
    "df = pd.DataFrame(data_list)\n",
    "df.to_csv(f\"./output/{namefile}_ref.csv\", sep=';', index=False)"
   ]
  }
 ],
 "metadata": {
  "kernelspec": {
   "display_name": "Python 3",
   "language": "python",
   "name": "python3"
  },
  "language_info": {
   "codemirror_mode": {
    "name": "ipython",
    "version": 3
   },
   "file_extension": ".py",
   "mimetype": "text/x-python",
   "name": "python",
   "nbconvert_exporter": "python",
   "pygments_lexer": "ipython3",
   "version": "3.10.6"
  },
  "orig_nbformat": 4
 },
 "nbformat": 4,
 "nbformat_minor": 2
}
