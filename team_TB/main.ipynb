{
 "cells": [
  {
   "cell_type": "code",
   "execution_count": null,
   "metadata": {},
   "outputs": [],
   "source": [
    "from transformers import AutoTokenizer, AutoModelForSequenceClassification\n",
    "from processingQst import *\n",
    "from similarityFcts import *\n",
    "from tqdm import tqdm\n",
    "import pandas as pd"
   ]
  },
  {
   "cell_type": "code",
   "execution_count": null,
   "metadata": {},
   "outputs": [],
   "source": [
    "df = pd.read_csv(\"./input/csv/dev.csv\",delimiter=\";\")\n",
    "\n",
    "Qst = df[\"question\"]\n",
    "id  = df[\"id\"]\n",
    "nbrRepAll = df[\"nbr_correct_answers\"]\n",
    "RepListIndxAll = df[\"correct_answers\"]\n",
    "nbrRep = 5\n",
    "print(len(Qst))\n",
    "data_list = []\n",
    "data_listAux = []\n",
    "RepListIndx = 'abcde'"
   ]
  },
  {
   "cell_type": "code",
   "execution_count": null,
   "metadata": {},
   "outputs": [],
   "source": [
    "def writeJson(path,data):\n",
    "    with open(path,\"w\",encoding='utf-8') as f:\n",
    "        json.dump(data,f,indent=4,ensure_ascii=False)"
   ]
  },
  {
   "cell_type": "code",
   "execution_count": null,
   "metadata": {},
   "outputs": [],
   "source": [
    "with open('output/corpusMS.json', 'r') as f:\n",
    "    corpusA = json.load(f)\n",
    "with open('output/corpusMerck.json', 'r') as fs:\n",
    "    corpusB = json.load(fs)"
   ]
  },
  {
   "cell_type": "code",
   "execution_count": null,
   "metadata": {},
   "outputs": [],
   "source": [
    "\n",
    "for cpt in tqdm(range(len(Qst))):\n",
    "    # if (cpt > 146):\n",
    "    #     break\n",
    "    if (cpt>=0):\n",
    "        qst = Qst[cpt]\n",
    "        nwQst = ''\n",
    "        listMed = []\n",
    "        keywordQ = []\n",
    "        keywordQP = []\n",
    "        ListMedAns = ''\n",
    "        Spword = False\n",
    "        data_dict = {}\n",
    " \n",
    "        if(isRequestWrongAns(qst)):\n",
    "            WrongQst = True \n",
    "        else: \n",
    "            WrongQst = False \n",
    "        \n",
    "        qst = del_betParenthese(qst)\n",
    "        fragQst = splitQst(qst)\n",
    "\n",
    "        for icpt in range(len(fragQst)):\n",
    "            if not (fragQst[icpt]==''):\n",
    "                nwQst,Spword,listMed = recoverMedFrag(fragQst,icpt,nwQst,Spword)\n",
    "                keywordQ.extend(listMed)\n",
    "        nwQst = nwQst.lstrip()\n",
    "        nwQstp = ''\n",
    "        var = ''\n",
    "        varcpt = 0\n",
    "        for j in range(nbrRep):\n",
    "            keywordQP = []\n",
    "            Ans = df[f\"answers.{RepListIndx[j]}\"][cpt] \n",
    "            Ans = Ans.lstrip()\n",
    "            keywordQP.extend(RecoverListMed(Ans))\n",
    "            if Spword:\n",
    "                nwQstp = replaceAtFront(Ans) + nwQst + '.'\n",
    "            else:\n",
    "                nwQstp = nwQst + ' '+ Ans.lower() + '.' \n",
    "            if WrongQst == True:\n",
    "                nwQstp = appliquer_negation(nwQstp.lower())\n",
    "            \n",
    "            taux_sim = getRepDB(keywordQ,keywordQP,corpusA,nwQstp)\n",
    "            taux_simB = getRepDB(keywordQ,keywordQP,corpusB,nwQstp)\n",
    "            if taux_sim > 0.9 or taux_simB > 0.68:\n",
    "                if var !=\"\":\n",
    "                    var = var + '|'\n",
    "                var = var + RepListIndx[j]\n",
    "                varcpt +=1\n",
    "\n",
    "        data_dict = {'id': id[cpt], 'correct_answers': var}\n",
    "        data_dictAux = {'id': id[cpt], 'nbr_correct_answers': varcpt}\n",
    "        data_list.append(data_dict)\n",
    "        data_listAux.append(data_dictAux)\n",
    "\n"
   ]
  },
  {
   "cell_type": "code",
   "execution_count": null,
   "metadata": {},
   "outputs": [],
   "source": [
    "# ---\n",
    "df = pd.DataFrame(data_list)\n",
    "df.to_csv('./output/tachePrincipale.csv', sep=';', index=False)\n",
    "# ---\n",
    "dfs = pd.DataFrame(data_listAux)\n",
    "dfs.to_csv('./output/tacheAnnexe.csv', sep=';', index=False)"
   ]
  }
 ],
 "metadata": {
  "kernelspec": {
   "display_name": "Python 3",
   "language": "python",
   "name": "python3"
  },
  "language_info": {
   "codemirror_mode": {
    "name": "ipython",
    "version": 3
   },
   "file_extension": ".py",
   "mimetype": "text/x-python",
   "name": "python",
   "nbconvert_exporter": "python",
   "pygments_lexer": "ipython3",
   "version": "3.10.6"
  },
  "orig_nbformat": 4
 },
 "nbformat": 4,
 "nbformat_minor": 2
}
