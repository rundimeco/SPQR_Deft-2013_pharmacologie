{
 "cells": [
  {
   "cell_type": "code",
   "execution_count": null,
   "metadata": {},
   "outputs": [],
   "source": [
    "from processingQst import *\n",
    "from tqdm import tqdm\n",
    "from operator import length_hint\n",
    "import pandas as pd"
   ]
  },
  {
   "cell_type": "code",
   "execution_count": null,
   "metadata": {},
   "outputs": [],
   "source": [
    "df = pd.read_csv(\"../data/csv/train.csv\",delimiter=\";\")\n",
    "fragP1 = []\n",
    "Qst = df[\"question\"]\n",
    "nbrRepAll = df[\"nbr_correct_answers\"]\n",
    "RepListIndxAll = df[\"correct_answers\"]"
   ]
  },
  {
   "cell_type": "code",
   "execution_count": null,
   "metadata": {},
   "outputs": [],
   "source": [
    "for cpt in tqdm(range(len(Qst))):\n",
    "# for cpt in range(len(Qst)):\n",
    "    if (cpt> 100):\n",
    "        break\n",
    "    elif (cpt>=0):\n",
    "        nbrRep = nbrRepAll[cpt]\n",
    "        RepListIndx = RepListIndxAll[cpt]\n",
    "        if (nbrRep!=1):\n",
    "            RepListIndx= RepListIndx.replace('|', '') \n",
    "        qst = Qst[cpt]\n",
    "        nwQst = ''\n",
    "        Spword = False\n",
    "\n",
    "        # Détécter la négation \n",
    "        if(isRequestWrongAns(qst)):\n",
    "            WrongQst = True \n",
    "            # print(WrongQst)\n",
    "        else: \n",
    "            WrongQst = False \n",
    "            # print(WrongQst)\n",
    "        # supprimer les parenthèses \n",
    "        qst = del_betParenthese(qst)\n",
    "        # fragementation des questions selon les \",\"\n",
    "        fragQst = splitQst(qst)\n",
    "        for icpt in range(len(fragQst)):\n",
    "            # Récupérer les fragements qui contiennent les infos médicales uniquement \n",
    "            if not (fragQst[icpt]==''):\n",
    "                nwQst,Spword = recoverMedFrag(fragQst,icpt,nwQst,Spword)\n",
    "        nwQst = nwQst.lstrip()\n",
    "        # collect total pour impression dans un fichier \n",
    "        nwQstp = ''\n",
    "        for j in range(nbrRep):\n",
    "            Ans = df[f\"answers.{RepListIndx[j]}\"][cpt] \n",
    "            Ans = Ans.lstrip()\n",
    "            if Spword:\n",
    "                nwQstp = replaceAtFront(Ans) + nwQst + '.'\n",
    "            else:\n",
    "                nwQstp = nwQst + ' '+ Ans.lower() + '.' \n",
    "            # Appliquer la négation \n",
    "            if WrongQst == True:\n",
    "                nwQstp = appliquer_negation(nwQstp.lower())\n",
    "            fragP1.append(nwQstp)\n",
    "            nwQstp = ''"
   ]
  },
  {
   "cell_type": "code",
   "execution_count": null,
   "metadata": {},
   "outputs": [],
   "source": [
    "file = open('./output/CorpusA.txt','w')\n",
    "for item in fragP1:\n",
    "    file.write(item+\"\\n\")     \n",
    "file.close()"
   ]
  }
 ],
 "metadata": {
  "kernelspec": {
   "display_name": "Python 3",
   "language": "python",
   "name": "python3"
  },
  "language_info": {
   "codemirror_mode": {
    "name": "ipython",
    "version": 3
   },
   "file_extension": ".py",
   "mimetype": "text/x-python",
   "name": "python",
   "nbconvert_exporter": "python",
   "pygments_lexer": "ipython3",
   "version": "3.10.6"
  },
  "orig_nbformat": 4
 },
 "nbformat": 4,
 "nbformat_minor": 2
}
