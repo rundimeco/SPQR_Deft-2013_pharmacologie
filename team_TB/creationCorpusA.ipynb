{
 "cells": [
  {
   "cell_type": "code",
   "execution_count": 1,
   "metadata": {},
   "outputs": [
    {
     "name": "stderr",
     "output_type": "stream",
     "text": [
      "2023-04-17 11:48:42.112599: I tensorflow/stream_executor/cuda/cuda_gpu_executor.cc:975] successful NUMA node read from SysFS had negative value (-1), but there must be at least one NUMA node, so returning NUMA node zero\n",
      "2023-04-17 11:48:42.129074: I tensorflow/stream_executor/cuda/cuda_gpu_executor.cc:975] successful NUMA node read from SysFS had negative value (-1), but there must be at least one NUMA node, so returning NUMA node zero\n",
      "2023-04-17 11:48:42.129391: I tensorflow/stream_executor/cuda/cuda_gpu_executor.cc:975] successful NUMA node read from SysFS had negative value (-1), but there must be at least one NUMA node, so returning NUMA node zero\n",
      "[nltk_data] Downloading package punkt to /home/amani/nltk_data...\n",
      "[nltk_data]   Package punkt is already up-to-date!\n"
     ]
    }
   ],
   "source": [
    "from processingQst import *\n",
    "\n",
    "from tqdm import tqdm\n"
   ]
  },
  {
   "cell_type": "code",
   "execution_count": 2,
   "metadata": {},
   "outputs": [],
   "source": [
    "# test \n",
    "\n",
    "# question = \"Parmi les affirmations suivantes, une seule est fausse, indiquer laquelle\"\n",
    "\n",
    "# if isRequestWrongAns(question):\n",
    "#     print(\"La question demande une réponse fausse.\")\n",
    "# else:\n",
    "#     print(\"La question ne demande pas une réponse fausse.\")\n"
   ]
  },
  {
   "cell_type": "code",
   "execution_count": 3,
   "metadata": {},
   "outputs": [],
   "source": [
    "# test \n",
    "\n",
    "# from apply_negation import negation\n",
    "# sentence = \"les particules sont formées de noyaux d'hélium\"\n",
    "# print(negation(sentence))"
   ]
  },
  {
   "cell_type": "code",
   "execution_count": 4,
   "metadata": {},
   "outputs": [],
   "source": [
    "import csv \n",
    "import os.path\n",
    "import re\n",
    "from operator import length_hint\n",
    "\n",
    "instr  = 'abcdefgh'\n",
    "outstr = '23456789'\n",
    "trans = str.maketrans(instr, outstr)"
   ]
  },
  {
   "cell_type": "code",
   "execution_count": 5,
   "metadata": {},
   "outputs": [
    {
     "name": "stdout",
     "output_type": "stream",
     "text": [
      "0\n"
     ]
    },
    {
     "name": "stderr",
     "output_type": "stream",
     "text": [
      "21it [00:20,  1.01it/s]\n"
     ]
    }
   ],
   "source": [
    "\n",
    "with open(\"../data/csv/train.csv\", \"r\") as f:\n",
    "        reader = csv.reader(f, delimiter=\";\")\n",
    "        cpt  = 0\n",
    "        print(cpt)\n",
    "        fragP1 = []\n",
    "        # récuperation des questions \n",
    "        for i, line in tqdm(enumerate(reader)):\n",
    "            # if(cpt >20):\n",
    "            #     break \n",
    "            if(cpt>1):\n",
    "                lenLine = length_hint(line)\n",
    "                nbrRep = line[lenLine-1]\n",
    "                RepListIndx = line[lenLine-2]\n",
    "                if (nbrRep!=1):\n",
    "                     RepListIndx= RepListIndx.replace('|', '')   \n",
    "                qst = line[1]\n",
    "                # print(line[1])\n",
    "                nwQst = ''\n",
    "                Spword = ''\n",
    "\n",
    "                # Détécter la négation \n",
    "                if(isRequestWrongAns(qst)):\n",
    "                    WrongQst = True \n",
    "                    # print(WrongQst)\n",
    "                else: \n",
    "                    WrongQst = False \n",
    "                    # print(WrongQst)\n",
    "\n",
    "                # fragementation des questions selon les \",\"\n",
    "                fragQst = splitQst(qst)\n",
    "                # print(fragQst)\n",
    "                for icpt in range(len(fragQst)):\n",
    "                    # Récupérer les fragements qui contiennent les infos médicales uniquements \n",
    "                    isthereMedTerm = MedTermDectectionv2(fragQst[icpt])\n",
    "                    if (isthereMedTerm): # si il trouve un terme médical\n",
    "                        var = fragQst[icpt] # il récupère le fragement\n",
    "                        if icpt ==0: # s'il est le premier fragement\n",
    "                            var = var.split()\n",
    "                            if var[0]==\"Parmi\":\n",
    "                                # applique la procédure du changement \n",
    "                                Spword = \"Parmi les\"\n",
    "                                fragQst[icpt] = gestionSPword(fragQst[icpt],Spword)\n",
    "                        nwQst = nwQst + ' ' + fragQst[icpt]\n",
    "                nwQst = nwQst.lstrip()\n",
    "                # collect total pour impression dans un fichier \n",
    "                for j in range(len(nbrRep)):\n",
    "                    #  print(Spword)\n",
    "                     if Spword == \"Parmi les\":\n",
    "#                          print(nwQst)\n",
    "                         nwQst = replaceAtFront(line[int(RepListIndx[j].translate(trans))] ) + nwQst\n",
    "                     else:\n",
    "                        nwQst = nwQst + ' '+ line[int(RepListIndx[j].translate(trans))] \n",
    "                     # Appliquer la négation \n",
    "                     if WrongQst == True:\n",
    "                        nwQst = appliquer_negation(nwQst.lower())\n",
    "                     fragP1.append(nwQst)\n",
    "            cpt = cpt +1\n",
    "            # print(nwQst)d\n",
    "file = open('./output/CorpusA.txt','w')\n",
    "for item in fragP1:\n",
    "    file.write(item+\"\\n\")     \n",
    "file.close()"
   ]
  }
 ],
 "metadata": {
  "kernelspec": {
   "display_name": "Python 3",
   "language": "python",
   "name": "python3"
  },
  "language_info": {
   "codemirror_mode": {
    "name": "ipython",
    "version": 3
   },
   "file_extension": ".py",
   "mimetype": "text/x-python",
   "name": "python",
   "nbconvert_exporter": "python",
   "pygments_lexer": "ipython3",
   "version": "3.10.6"
  },
  "orig_nbformat": 4
 },
 "nbformat": 4,
 "nbformat_minor": 2
}
