{
 "cells": [
  {
   "cell_type": "code",
   "execution_count": null,
   "metadata": {},
   "outputs": [],
   "source": [
    "from processingQst import *\n",
    "from tqdm import tqdm\n",
    "import csv \n",
    "from operator import length_hint\n",
    "import pandas as pd"
   ]
  },
  {
   "cell_type": "code",
   "execution_count": null,
   "metadata": {},
   "outputs": [],
   "source": [
    "df = pd.read_csv(\"../data/csv/train.csv\",delimiter=\";\")\n",
    "\n",
    "fragP1 = []\n",
    "\n",
    "Qst = df[\"question\"]\n",
    "nbrRepAll = df[\"nbr_correct_answers\"]\n",
    "RepListIndxAll = df[\"correct_answers\"]\n",
    "\n",
    "for cpt in tqdm(range(len(Qst))):\n",
    "    if (cpt> 200):\n",
    "        break\n",
    "    elif (cpt>0):\n",
    "        nbrRep = nbrRepAll[cpt]\n",
    "        RepListIndx = RepListIndxAll[cpt]\n",
    "        if (nbrRep!=1):\n",
    "            RepListIndx= RepListIndx.replace('|', '') \n",
    "        qst = Qst[cpt]\n",
    "        nwQst = ''\n",
    "        Spword = ''\n",
    "\n",
    "        # Détécter la négation \n",
    "        if(isRequestWrongAns(qst)):\n",
    "            WrongQst = True \n",
    "            # print(WrongQst)\n",
    "        else: \n",
    "            WrongQst = False \n",
    "            # print(WrongQst)\n",
    "            # supprimer les parenthèses \n",
    "            qst = del_betParenthese(qst)\n",
    "            # fragementation des questions selon les \",\"\n",
    "            fragQst = splitQst(qst)\n",
    "            # print(fragQst)\n",
    "            for icpt in range(len(fragQst)):\n",
    "                # Récupérer les fragements qui contiennent les infos médicales uniquement \n",
    "                nwQst,Spword = recoverMedFrag(fragQst,icpt,nwQst,Spword)\n",
    "            nwQst = nwQst.lstrip()\n",
    "            # collect total pour impression dans un fichier \n",
    "            nwQstp = ''\n",
    "            for j in range(nbrRep):\n",
    "                Ans = df[f\"answers.{RepListIndx[j]}\"][cpt] \n",
    "                Ans = Ans.lstrip()\n",
    "                if Spword == \"Parmi\":\n",
    "                    nwQstp = replaceAtFront(Ans.lower()) + nwQst + '.'\n",
    "                else:\n",
    "                    nwQstp = nwQst + ' '+ Ans.lower() + '.' \n",
    "                # Appliquer la négation \n",
    "                if WrongQst == True:\n",
    "                    nwQstp = appliquer_negation(nwQstp.lower())\n",
    "                fragP1.append(nwQstp)\n",
    "                nwQstp = ''\n",
    "\n",
    "file = open('./output/CorpusA.txt','w')\n",
    "for item in fragP1:\n",
    "    file.write(item+\"\\n\")     \n",
    "file.close()"
   ]
  }
 ],
 "metadata": {
  "kernelspec": {
   "display_name": "Python 3",
   "language": "python",
   "name": "python3"
  },
  "language_info": {
   "codemirror_mode": {
    "name": "ipython",
    "version": 3
   },
   "file_extension": ".py",
   "mimetype": "text/x-python",
   "name": "python",
   "nbconvert_exporter": "python",
   "pygments_lexer": "ipython3",
   "version": "3.10.6"
  },
  "orig_nbformat": 4
 },
 "nbformat": 4,
 "nbformat_minor": 2
}
