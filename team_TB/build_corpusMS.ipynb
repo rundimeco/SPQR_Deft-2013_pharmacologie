{
 "cells": [
  {
   "cell_type": "code",
   "execution_count": null,
   "metadata": {},
   "outputs": [],
   "source": [
    "from processingQst import *\n",
    "from tqdm import tqdm\n",
    "from operator import length_hint\n",
    "import pandas as pd\n",
    "import json"
   ]
  },
  {
   "cell_type": "code",
   "execution_count": null,
   "metadata": {},
   "outputs": [],
   "source": [
    "df = pd.read_csv(\"../data/csv/train.csv\",delimiter=\";\")\n",
    "fragP1 = []\n",
    "Qst = df[\"question\"]\n",
    "nbrRepAll = df[\"nbr_correct_answers\"]\n",
    "RepListIndxAll = df[\"correct_answers\"]\n",
    "# dfs = []\n",
    "data_list = []"
   ]
  },
  {
   "cell_type": "code",
   "execution_count": null,
   "metadata": {},
   "outputs": [],
   "source": [
    "for cpt in tqdm(range(len(Qst))):\n",
    "# for cpt in range(len(Qst)):\n",
    "    # if (cpt> 629):\n",
    "    #     break\n",
    "    if (cpt>=0):\n",
    "        nbrRep = nbrRepAll[cpt]\n",
    "        RepListIndx = RepListIndxAll[cpt]\n",
    "        if (nbrRep!=1):\n",
    "            RepListIndx= RepListIndx.replace('|', '') \n",
    "        qst = Qst[cpt]\n",
    "        nwQst = ''\n",
    "        listMed = []\n",
    "        listMedAll = []\n",
    "        ListMedAns = ''\n",
    "        Spword = False\n",
    "\n",
    "        # Détécter la négation \n",
    "        if(isRequestWrongAns(qst)):\n",
    "            WrongQst = True \n",
    "            # print(WrongQst)\n",
    "        else: \n",
    "            WrongQst = False \n",
    "            # print(WrongQst)\n",
    "        \n",
    "        # supprimer les parenthèses \n",
    "        qst = del_betParenthese(qst)\n",
    "        # fragementation des questions selon les \",\"\n",
    "        fragQst = splitQst(qst)\n",
    "        for icpt in range(len(fragQst)):\n",
    "            # Récupérer les fragements qui contiennent les infos médicales uniquement \n",
    "            if not (fragQst[icpt]==''):\n",
    "                nwQst,Spword,listMed = recoverMedFrag(fragQst,icpt,nwQst,Spword)\n",
    "                listMedAll.extend(listMed)\n",
    "        nwQst = nwQst.lstrip()\n",
    "        # print(listMedAll)\n",
    "        # collect total pour impression dans un fichier \n",
    "        nwQstp = ''\n",
    "        for j in range(nbrRep):\n",
    "            Ans = df[f\"answers.{RepListIndx[j]}\"][cpt] \n",
    "            Ans = Ans.lstrip()\n",
    "            listMed = RecoverListMed(Ans)\n",
    "            # listMedAll.extend(listMed)\n",
    "            listMedAll = list(set(listMedAll + listMed))\n",
    "            # print(listMedAll)\n",
    "            if Spword:\n",
    "                nwQstp = replaceAtFront(Ans) + nwQst + '.'\n",
    "            else:\n",
    "                nwQstp = nwQst + ' '+ Ans.lower() + '.' \n",
    "            # Appliquer la négation \n",
    "            if WrongQst == True:\n",
    "                nwQstp = appliquer_negation(nwQstp.lower())\n",
    "            # créer un dataframe pour les données actuelles\n",
    "            data_dict = {'keywords': listMedAll, 'sentence': nwQstp}\n",
    "            data_list.append(data_dict)\n",
    "            # data = pd.DataFrame({'ListMed': [','.join(listMedAll)], 'qst': [nwQstp]})\n",
    "            # dfs.append(data)\n",
    "            nwQstp = ''\n",
    "            ListMedAll = ''"
   ]
  },
  {
   "cell_type": "code",
   "execution_count": null,
   "metadata": {},
   "outputs": [],
   "source": [
    "# concaténer tous les dataframes dans un seul dataframe\n",
    "# result = pd.concat(dfs, ignore_index=True)\n",
    "\n",
    "# écrire les données dans un fichier CSV\n",
    "# result.to_csv('./output/CorpusMS.csv', sep=';', index=False)\n",
    "writeJson(\"output/corpusMS.json\",data_list)"
   ]
  }
 ],
 "metadata": {
  "kernelspec": {
   "display_name": "Python 3",
   "language": "python",
   "name": "python3"
  },
  "language_info": {
   "codemirror_mode": {
    "name": "ipython",
    "version": 3
   },
   "file_extension": ".py",
   "mimetype": "text/x-python",
   "name": "python",
   "nbconvert_exporter": "python",
   "pygments_lexer": "ipython3",
   "version": "3.10.6"
  },
  "orig_nbformat": 4
 },
 "nbformat": 4,
 "nbformat_minor": 2
}
