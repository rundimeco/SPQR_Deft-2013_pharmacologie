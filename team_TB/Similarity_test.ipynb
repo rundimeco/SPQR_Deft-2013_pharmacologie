{
 "cells": [
  {
   "cell_type": "code",
   "execution_count": null,
   "metadata": {},
   "outputs": [],
   "source": [
    "from transformers import AutoTokenizer, AutoModelForSequenceClassification\n",
    "from processingQst import *\n",
    "import pandas as pd"
   ]
  },
  {
   "cell_type": "code",
   "execution_count": null,
   "metadata": {},
   "outputs": [],
   "source": [
    "dfd = pd.read_csv(\"../data/csv/train.csv\",delimiter=\";\")\n",
    "\n",
    "Qst = dfd[\"question\"]\n",
    "print(len(Qst))"
   ]
  },
  {
   "cell_type": "code",
   "execution_count": null,
   "metadata": {},
   "outputs": [],
   "source": [
    "# capture medical term in the question\n"
   ]
  },
  {
   "cell_type": "code",
   "execution_count": null,
   "metadata": {},
   "outputs": [],
   "source": [
    "# transform the question \n",
    "cpt = 0\n",
    "qst = Qst[cpt]\n",
    "RepListIndx = \"abcde\""
   ]
  },
  {
   "cell_type": "code",
   "execution_count": null,
   "metadata": {},
   "outputs": [],
   "source": [
    "# Détécter la négation \n",
    "if(isRequestWrongAns(qst)):\n",
    "    WrongQst = True \n",
    "    # print(WrongQst)\n",
    "else: \n",
    "    WrongQst = False \n",
    "    # print(WrongQst)\n",
    "\n",
    "# supprimer les parenthèses \n",
    "qst = del_betParenthese(qst)"
   ]
  },
  {
   "cell_type": "code",
   "execution_count": null,
   "metadata": {},
   "outputs": [],
   "source": [
    "# Rewrite the qst under the form of a sentence \n",
    "\n",
    "# fragementation des questions selon les \",\"\n",
    "fragP1 = []\n",
    "nwQst = ''\n",
    "Spword = False\n",
    "ListMed = []\n",
    "fragQst = splitQst(qst)\n",
    "for icpt in range(len(fragQst)):\n",
    "    # Récupérer les fragements qui contiennent les infos médicales uniquement \n",
    "    if not (fragQst[icpt]==''):\n",
    "        nwQst,Spword,ListMedv = recoverMedFrag(fragQst,icpt,nwQst,Spword)\n",
    "        ListMed = ListMed + ListMedv\n",
    "nwQst = nwQst.lstrip()"
   ]
  },
  {
   "cell_type": "code",
   "execution_count": null,
   "metadata": {},
   "outputs": [],
   "source": [
    "# Capture medical terms \n",
    "print(ListMed)"
   ]
  },
  {
   "cell_type": "code",
   "execution_count": null,
   "metadata": {},
   "outputs": [],
   "source": [
    "# add possible responses\n",
    "nwQstp = ''\n",
    "for j in range(5):\n",
    "    Ans = dfd[f\"answers.{RepListIndx[j]}\"][cpt] \n",
    "    Ans = Ans.lstrip()\n",
    "    if Spword:\n",
    "        nwQstp = replaceAtFront(Ans) + nwQst + '.'\n",
    "    else:\n",
    "        nwQstp = nwQst + ' '+ Ans.lower() + '.' \n",
    "        # Appliquer la négation \n",
    "    if WrongQst == True:\n",
    "        nwQstp = appliquer_negation(nwQstp.lower())\n",
    "    nwQstp = ''"
   ]
  },
  {
   "cell_type": "code",
   "execution_count": null,
   "metadata": {},
   "outputs": [],
   "source": [
    "# save in txt file\n",
    "# file = open('./output/resultat.txt','w')\n",
    "# for item in fragP1:\n",
    "#     file.write(item+\"\\n\")     \n",
    "# file.close()"
   ]
  },
  {
   "cell_type": "code",
   "execution_count": null,
   "metadata": {},
   "outputs": [],
   "source": [
    "# dictionary of lists  \n",
    "# dict = {'MedTerms': ListMed[0], 'sentence': fragP1}#, 'score': scr}  \n",
    "# df = pd.DataFrame(dict) \n",
    "# # saving the dataframe \n",
    "# df.to_csv('resultat.csv') "
   ]
  }
 ],
 "metadata": {
  "kernelspec": {
   "display_name": "Python 3",
   "language": "python",
   "name": "python3"
  },
  "language_info": {
   "codemirror_mode": {
    "name": "ipython",
    "version": 3
   },
   "file_extension": ".py",
   "mimetype": "text/x-python",
   "name": "python",
   "nbconvert_exporter": "python",
   "pygments_lexer": "ipython3",
   "version": "3.10.6"
  },
  "orig_nbformat": 4
 },
 "nbformat": 4,
 "nbformat_minor": 2
}
