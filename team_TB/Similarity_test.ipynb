{
 "cells": [
  {
   "cell_type": "code",
   "execution_count": 45,
   "metadata": {},
   "outputs": [],
   "source": [
    "from transformers import AutoTokenizer, AutoModelForSequenceClassification\n",
    "from processingQst import *\n",
    "from tqdm import tqdm\n",
    "import pandas as pd"
   ]
  },
  {
   "cell_type": "code",
   "execution_count": 46,
   "metadata": {},
   "outputs": [
    {
     "name": "stdout",
     "output_type": "stream",
     "text": [
      "312\n"
     ]
    }
   ],
   "source": [
    "df = pd.read_csv(\"./input/csv/dev.csv\",delimiter=\";\")\n",
    "\n",
    "Qst = df[\"question\"]\n",
    "id  = df[\"id\"]\n",
    "nbrRepAll = df[\"nbr_correct_answers\"]\n",
    "RepListIndxAll = df[\"correct_answers\"]\n",
    "nbrRep = 5\n",
    "print(len(Qst))\n",
    "data_list = []\n",
    "RepListIndx = 'abcde'"
   ]
  },
  {
   "cell_type": "code",
   "execution_count": 47,
   "metadata": {},
   "outputs": [],
   "source": [
    "def writeJson(path,data):\n",
    "    with open(path,\"w\",encoding='utf-8') as f:\n",
    "        json.dump(data,f,indent=4,ensure_ascii=False)"
   ]
  },
  {
   "cell_type": "code",
   "execution_count": 48,
   "metadata": {},
   "outputs": [],
   "source": [
    "for cpt in range(len(Qst)):\n",
    "# for cpt in tqdm(range(len(Qst))):\n",
    "    if (cpt > 0):\n",
    "        break\n",
    "    elif (cpt>=0): \n",
    "        qst = Qst[cpt]\n",
    "        nwQst = ''\n",
    "        listMed = []\n",
    "        listMedR = []\n",
    "        listMedAll = []\n",
    "        listMedQst = []\n",
    "        ListMedAns = ''\n",
    "        Spword = False\n",
    "        data_dict = {}\n",
    "\n",
    "        # Détécter la négation \n",
    "        if(isRequestWrongAns(qst)):\n",
    "            WrongQst = True \n",
    "            # print(WrongQst)\n",
    "        else: \n",
    "            WrongQst = False \n",
    "            # print(WrongQst)\n",
    "        \n",
    "        # supprimer les parenthèses \n",
    "        qst = del_betParenthese(qst)\n",
    "\n",
    "        # fragementation des questions selon les \",\"\n",
    "        fragQst = splitQst(qst)\n",
    "\n",
    "        for icpt in range(len(fragQst)):\n",
    "            # Récupérer les fragements qui contiennent les infos médicales uniquement \n",
    "            if not (fragQst[icpt]==''):\n",
    "                nwQst,Spword,listMed = recoverMedFrag(fragQst,icpt,nwQst,Spword)\n",
    "                listMedQst.extend(listMed)\n",
    "        nwQst = nwQst.lstrip()\n",
    "        # collect total pour impression dans un fichier \n",
    "        nwQstp = ''\n",
    "        for j in range(5): # 5 réponses \n",
    "            Ans = df[f\"answers.{RepListIndx[j]}\"][cpt] \n",
    "            Ans = Ans.lstrip()\n",
    "            listMedR = RecoverListMed(Ans)\n",
    "            # listMed=filter(None, listMed)\n",
    "            listMedAll.extend(listMedQst)\n",
    "            listMedAll.extend(listMedR)\n",
    "            if Spword:\n",
    "                nwQstp = replaceAtFront(Ans) + nwQst + '.'\n",
    "            else:\n",
    "                nwQstp = nwQst + ' '+ Ans.lower() + '.' \n",
    "            # Appliquer la négation \n",
    "            if WrongQst == True:\n",
    "                nwQstp = appliquer_negation(nwQstp.lower())\n",
    "            # créer un dataframe pour les données actuelles\n",
    "            \n",
    "            data_dict = {'id' : id[cpt], 'ListMed': listMedAll, 'qst': nwQstp}\n",
    "            data_list.append(data_dict)\n",
    "            nwQstp = ''\n",
    "            # print(listMedAll)\n",
    "            listMedAll = []\n",
    "\n",
    "writeJson(\"output/test.json\",data_list)\n"
   ]
  },
  {
   "cell_type": "code",
   "execution_count": 49,
   "metadata": {},
   "outputs": [],
   "source": [
    "# capture medical term in the question\n"
   ]
  },
  {
   "cell_type": "code",
   "execution_count": 50,
   "metadata": {},
   "outputs": [],
   "source": [
    "# transform the question \n",
    "# cpt = 0\n",
    "# qst = Qst[cpt]\n",
    "# RepListIndx = \"abcde\""
   ]
  },
  {
   "cell_type": "code",
   "execution_count": 51,
   "metadata": {},
   "outputs": [],
   "source": [
    "# # Détécter la négation \n",
    "# if(isRequestWrongAns(qst)):\n",
    "#     WrongQst = True \n",
    "#     # print(WrongQst)\n",
    "# else: \n",
    "#     WrongQst = False \n",
    "#     # print(WrongQst)\n",
    "\n",
    "# # supprimer les parenthèses \n",
    "# qst = del_betParenthese(qst)"
   ]
  },
  {
   "cell_type": "code",
   "execution_count": 52,
   "metadata": {},
   "outputs": [],
   "source": [
    "# # Rewrite the qst under the form of a sentence \n",
    "\n",
    "# # fragementation des questions selon les \",\"\n",
    "# fragP1 = []\n",
    "# nwQst = ''\n",
    "# Spword = False\n",
    "# ListMed = []\n",
    "# fragQst = splitQst(qst)\n",
    "# for icpt in range(len(fragQst)):\n",
    "#     # Récupérer les fragements qui contiennent les infos médicales uniquement \n",
    "#     if not (fragQst[icpt]==''):\n",
    "#         nwQst,Spword,ListMedv = recoverMedFrag(fragQst,icpt,nwQst,Spword)\n",
    "#         ListMed = ListMed + ListMedv\n",
    "# nwQst = nwQst.lstrip()"
   ]
  },
  {
   "cell_type": "code",
   "execution_count": 53,
   "metadata": {},
   "outputs": [],
   "source": [
    "# # Capture medical terms \n",
    "# print(ListMed)"
   ]
  },
  {
   "cell_type": "code",
   "execution_count": 54,
   "metadata": {},
   "outputs": [],
   "source": [
    "# # add possible responses\n",
    "# nwQstp = ''\n",
    "# for j in range(5):\n",
    "#     Ans = dfd[f\"answers.{RepListIndx[j]}\"][cpt] \n",
    "#     Ans = Ans.lstrip()\n",
    "#     if Spword:\n",
    "#         nwQstp = replaceAtFront(Ans) + nwQst + '.'\n",
    "#     else:\n",
    "#         nwQstp = nwQst + ' '+ Ans.lower() + '.' \n",
    "#         # Appliquer la négation \n",
    "#     if WrongQst == True:\n",
    "#         nwQstp = appliquer_negation(nwQstp.lower())\n",
    "#     nwQstp = ''"
   ]
  },
  {
   "cell_type": "code",
   "execution_count": 55,
   "metadata": {},
   "outputs": [],
   "source": [
    "# save in txt file\n",
    "# file = open('./output/resultat.txt','w')\n",
    "# for item in fragP1:\n",
    "#     file.write(item+\"\\n\")     \n",
    "# file.close()"
   ]
  },
  {
   "cell_type": "code",
   "execution_count": 56,
   "metadata": {},
   "outputs": [],
   "source": [
    "# dictionary of lists  \n",
    "# dict = {'MedTerms': ListMed[0], 'sentence': fragP1}#, 'score': scr}  \n",
    "# df = pd.DataFrame(dict) \n",
    "# # saving the dataframe \n",
    "# df.to_csv('resultat.csv') "
   ]
  }
 ],
 "metadata": {
  "kernelspec": {
   "display_name": "Python 3",
   "language": "python",
   "name": "python3"
  },
  "language_info": {
   "codemirror_mode": {
    "name": "ipython",
    "version": 3
   },
   "file_extension": ".py",
   "mimetype": "text/x-python",
   "name": "python",
   "nbconvert_exporter": "python",
   "pygments_lexer": "ipython3",
   "version": "3.10.6"
  },
  "orig_nbformat": 4
 },
 "nbformat": 4,
 "nbformat_minor": 2
}
