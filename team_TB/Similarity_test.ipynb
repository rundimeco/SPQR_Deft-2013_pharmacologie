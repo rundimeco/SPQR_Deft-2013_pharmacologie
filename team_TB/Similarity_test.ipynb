{
 "cells": [
  {
   "cell_type": "code",
   "execution_count": null,
   "metadata": {},
   "outputs": [],
   "source": [
    "from transformers import AutoTokenizer, AutoModelForSequenceClassification\n",
    "from processingQst import *\n",
    "from similarityFcts import *\n",
    "from tqdm import tqdm\n",
    "import pandas as pd"
   ]
  },
  {
   "cell_type": "code",
   "execution_count": null,
   "metadata": {},
   "outputs": [],
   "source": [
    "df = pd.read_csv(\"./input/csv/dev.csv\",delimiter=\";\")\n",
    "\n",
    "Qst = df[\"question\"]\n",
    "id  = df[\"id\"]\n",
    "nbrRepAll = df[\"nbr_correct_answers\"]\n",
    "RepListIndxAll = df[\"correct_answers\"]\n",
    "nbrRep = 5\n",
    "print(len(Qst))\n",
    "data_list = []\n",
    "RepListIndx = 'abcde'"
   ]
  },
  {
   "cell_type": "code",
   "execution_count": null,
   "metadata": {},
   "outputs": [],
   "source": [
    "def writeJson(path,data):\n",
    "    with open(path,\"w\",encoding='utf-8') as f:\n",
    "        json.dump(data,f,indent=4,ensure_ascii=False)"
   ]
  },
  {
   "cell_type": "code",
   "execution_count": null,
   "metadata": {},
   "outputs": [],
   "source": [
    "for cpt in range(len(Qst)):\n",
    "# for cpt in tqdm(range(len(Qst))):\n",
    "    if (cpt > 0):\n",
    "        break\n",
    "    elif (cpt>=0): \n",
    "        qst = Qst[cpt]\n",
    "        nwQst = ''\n",
    "        listMed = []\n",
    "        listMedR = []\n",
    "        listMedAll = []\n",
    "        listMedQst = []\n",
    "        ListMedAns = ''\n",
    "        Spword = False\n",
    "        data_dict = {}\n",
    "\n",
    "        # Détécter la négation \n",
    "        if(isRequestWrongAns(qst)):\n",
    "            WrongQst = True \n",
    "            # print(WrongQst)\n",
    "        else: \n",
    "            WrongQst = False \n",
    "            # print(WrongQst)\n",
    "        \n",
    "        # supprimer les parenthèses \n",
    "        qst = del_betParenthese(qst)\n",
    "\n",
    "        # fragementation des questions selon les \",\"\n",
    "        fragQst = splitQst(qst)\n",
    "\n",
    "        for icpt in range(len(fragQst)):\n",
    "            if not (fragQst[icpt]==''):\n",
    "                nwQst,Spword,listMed = recoverMedFrag(fragQst,icpt,nwQst,Spword)\n",
    "                listMedQst.extend(listMed)\n",
    "        nwQst = nwQst.lstrip()\n",
    "        nwQstp = ''\n",
    "        for j in range(1): # 5 réponses \n",
    "            Ans = df[f\"answers.{RepListIndx[j]}\"][cpt] \n",
    "            Ans = Ans.lstrip()\n",
    "            listMedR = RecoverListMed(Ans)\n",
    "            listMedAll.extend(listMedQst)\n",
    "            listMedAll.extend(listMedR)\n",
    "            if Spword:\n",
    "                nwQstp = replaceAtFront(Ans) + nwQst + '.'\n",
    "            else:\n",
    "                nwQstp = nwQst + ' '+ Ans.lower() + '.' \n",
    "            # Appliquer la négation \n",
    "            if WrongQst == True:\n",
    "                nwQstp = appliquer_negation(nwQstp.lower())\n",
    "            \n",
    "            # test de similarité \n",
    "            taux_sim = getRepDB(listMedAll,nwQstp)\n",
    "            print(taux_sim)\n",
    "            # print(indx)\n",
    "            # créer un dataframe pour les données actuelles\n",
    "#             data_dict = {'id' : id[cpt], 'ListMed': listMedAll, 'qst': nwQstp}\n",
    "#             data_list.append(data_dict)\n",
    "#             nwQstp = ''\n",
    "#             listMedAll = []\n",
    "\n",
    "# writeJson(\"output/Qst_dev.json\",data_list)\n",
    "\n",
    "\n"
   ]
  }
 ],
 "metadata": {
  "kernelspec": {
   "display_name": "Python 3",
   "language": "python",
   "name": "python3"
  },
  "language_info": {
   "codemirror_mode": {
    "name": "ipython",
    "version": 3
   },
   "file_extension": ".py",
   "mimetype": "text/x-python",
   "name": "python",
   "nbconvert_exporter": "python",
   "pygments_lexer": "ipython3",
   "version": "3.10.6"
  },
  "orig_nbformat": 4
 },
 "nbformat": 4,
 "nbformat_minor": 2
}
