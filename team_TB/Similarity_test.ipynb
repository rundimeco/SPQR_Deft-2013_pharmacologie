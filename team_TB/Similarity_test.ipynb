{
 "cells": [
  {
   "cell_type": "code",
   "execution_count": 12,
   "metadata": {},
   "outputs": [],
   "source": [
    "from transformers import AutoTokenizer, AutoModelForSequenceClassification\n",
    "from processingQst import *\n",
    "import pandas as pd"
   ]
  },
  {
   "cell_type": "code",
   "execution_count": 13,
   "metadata": {},
   "outputs": [
    {
     "name": "stdout",
     "output_type": "stream",
     "text": [
      "2171\n"
     ]
    }
   ],
   "source": [
    "df = pd.read_csv(\"../data/csv/train.csv\",delimiter=\";\")\n",
    "\n",
    "Qst = df[\"question\"]\n",
    "print(len(Qst))"
   ]
  },
  {
   "cell_type": "code",
   "execution_count": 14,
   "metadata": {},
   "outputs": [],
   "source": [
    "# capture medical term in the question\n"
   ]
  },
  {
   "cell_type": "code",
   "execution_count": 15,
   "metadata": {},
   "outputs": [
    {
     "name": "stdout",
     "output_type": "stream",
     "text": [
      "Parmi les bactéries suivantes, une seule ne peut généralement pas être responsable d'une méningite aiguë, laquelle?\n"
     ]
    }
   ],
   "source": [
    "# transform the question \n",
    "cpt = 1\n",
    "qst = Qst[cpt]\n",
    "RepListIndx = \"abcde\"\n",
    "print(qst)\n"
   ]
  },
  {
   "cell_type": "code",
   "execution_count": 16,
   "metadata": {},
   "outputs": [],
   "source": [
    "# Détécter la négation \n",
    "if(isRequestWrongAns(qst)):\n",
    "    WrongQst = True \n",
    "    # print(WrongQst)\n",
    "else: \n",
    "    WrongQst = False \n",
    "    # print(WrongQst)\n",
    "\n",
    "# supprimer les parenthèses \n",
    "qst = del_betParenthese(qst)"
   ]
  },
  {
   "cell_type": "code",
   "execution_count": 17,
   "metadata": {},
   "outputs": [
    {
     "name": "stdout",
     "output_type": "stream",
     "text": [
      "['bactéries']\n",
      "[\"d'\", 'méningite']\n",
      "[]\n"
     ]
    }
   ],
   "source": [
    "# Rewrite the qst under the form of a sentence \n",
    "\n",
    "# fragementation des questions selon les \",\"\n",
    "fragP1 = []\n",
    "nwQst = ''\n",
    "Spword = False\n",
    "ListMed = []\n",
    "fragQst = splitQst(qst)\n",
    "for icpt in range(len(fragQst)):\n",
    "    # Récupérer les fragements qui contiennent les infos médicales uniquement \n",
    "    if not (fragQst[icpt]==''):\n",
    "        nwQst,Spword,ListMedv = recoverMedFrag(fragQst,icpt,nwQst,Spword)\n",
    "        ListMed = ListMed + ListMedv\n",
    "nwQst = nwQst.lstrip()\n"
   ]
  },
  {
   "cell_type": "code",
   "execution_count": 18,
   "metadata": {},
   "outputs": [
    {
     "name": "stdout",
     "output_type": "stream",
     "text": [
      "['bactéries', \"d'\", 'méningite']\n"
     ]
    }
   ],
   "source": [
    "# Capture medical terms \n",
    "print(ListMed)"
   ]
  },
  {
   "cell_type": "code",
   "execution_count": 19,
   "metadata": {},
   "outputs": [],
   "source": [
    "# add possible responses\n",
    "nwQstp = ''\n",
    "for j in range(4):\n",
    "    Ans = df[f\"answers.{RepListIndx[j]}\"][cpt] \n",
    "    Ans = Ans.lstrip()\n",
    "    if Spword:\n",
    "        nwQstp = replaceAtFront(Ans) + nwQst + '.'\n",
    "    else:\n",
    "        nwQstp = nwQst + ' '+ Ans.lower() + '.' \n",
    "        # Appliquer la négation \n",
    "    if WrongQst == True:\n",
    "        nwQstp = appliquer_negation(nwQstp.lower())\n",
    "    fragP1.append(nwQstp)\n",
    "    nwQstp = ''"
   ]
  },
  {
   "cell_type": "code",
   "execution_count": 20,
   "metadata": {},
   "outputs": [],
   "source": [
    "# save all in csv file \n",
    "# import csv \n",
    "# fields = ['MedTerms', 'sentence'] \n",
    "# with open('resultat', 'w') as f:\n",
    "      \n",
    "#     # using csv.writer method from CSV package\n",
    "#     write = csv.writer(f)\n",
    "      \n",
    "#     write.writerow(fields)\n",
    "#     write.writerows(fragP1)\n",
    "\n",
    "# file = open('./output/resultat.txt','w')\n",
    "# for item in fragP1:\n",
    "#     file.write(item+\"\\n\")     \n",
    "# file.close()"
   ]
  },
  {
   "cell_type": "code",
   "execution_count": 22,
   "metadata": {},
   "outputs": [],
   "source": [
    "# dictionary of lists  \n",
    "dict = {'MedTerms': ListMed[0], 'sentence': fragP1}#, 'score': scr}  \n",
    "       \n",
    "df = pd.DataFrame(dict) \n",
    "    \n",
    "# saving the dataframe \n",
    "df.to_csv('resultat.csv') "
   ]
  }
 ],
 "metadata": {
  "kernelspec": {
   "display_name": "Python 3",
   "language": "python",
   "name": "python3"
  },
  "language_info": {
   "codemirror_mode": {
    "name": "ipython",
    "version": 3
   },
   "file_extension": ".py",
   "mimetype": "text/x-python",
   "name": "python",
   "nbconvert_exporter": "python",
   "pygments_lexer": "ipython3",
   "version": "3.10.6"
  },
  "orig_nbformat": 4
 },
 "nbformat": 4,
 "nbformat_minor": 2
}
