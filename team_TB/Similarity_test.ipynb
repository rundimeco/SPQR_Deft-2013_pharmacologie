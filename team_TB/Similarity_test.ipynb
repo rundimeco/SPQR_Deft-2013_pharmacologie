{
 "cells": [
  {
   "cell_type": "code",
   "execution_count": 1,
   "metadata": {},
   "outputs": [
    {
     "name": "stderr",
     "output_type": "stream",
     "text": [
      "/home/omayya/.local/lib/python3.10/site-packages/tqdm/auto.py:22: TqdmWarning: IProgress not found. Please update jupyter and ipywidgets. See https://ipywidgets.readthedocs.io/en/stable/user_install.html\n",
      "  from .autonotebook import tqdm as notebook_tqdm\n",
      "2023-04-27 20:41:53.605136: E tensorflow/stream_executor/cuda/cuda_driver.cc:271] failed call to cuInit: CUDA_ERROR_NO_DEVICE: no CUDA-capable device is detected\n",
      "2023-04-27 20:41:53.605213: I tensorflow/stream_executor/cuda/cuda_diagnostics.cc:156] kernel driver does not appear to be running on this host (omayya-vm): /proc/driver/nvidia/version does not exist\n",
      "[nltk_data] Downloading package punkt to /home/omayya/nltk_data...\n",
      "[nltk_data]   Package punkt is already up-to-date!\n"
     ]
    }
   ],
   "source": [
    "from processingQst import *\n",
    "import pandas as pd"
   ]
  },
  {
   "cell_type": "code",
   "execution_count": 2,
   "metadata": {},
   "outputs": [
    {
     "name": "stdout",
     "output_type": "stream",
     "text": [
      "312\n"
     ]
    }
   ],
   "source": [
    "df = pd.read_csv(\"../data/csv/dev.csv\",delimiter=\";\")\n",
    "\n",
    "Qst = df[\"question\"]\n",
    "print(len(Qst))"
   ]
  },
  {
   "cell_type": "code",
   "execution_count": 3,
   "metadata": {},
   "outputs": [],
   "source": [
    "# capture medical term in the question\n"
   ]
  },
  {
   "cell_type": "code",
   "execution_count": 4,
   "metadata": {},
   "outputs": [
    {
     "name": "stdout",
     "output_type": "stream",
     "text": [
      "L'adrénaline stimule tous ces processus métaboliques sauf un. Lequel?\n"
     ]
    }
   ],
   "source": [
    "# transform the question \n",
    "cpt = 0\n",
    "qst = Qst[cpt]\n",
    "RepListIndx = \"abcde\"\n",
    "print(qst)\n"
   ]
  },
  {
   "cell_type": "code",
   "execution_count": 5,
   "metadata": {},
   "outputs": [],
   "source": [
    "# Détécter la négation \n",
    "if(isRequestWrongAns(qst)):\n",
    "    WrongQst = True \n",
    "    # print(WrongQst)\n",
    "else: \n",
    "    WrongQst = False \n",
    "    # print(WrongQst)\n",
    "\n",
    "# supprimer les parenthèses \n",
    "qst = del_betParenthese(qst)"
   ]
  },
  {
   "cell_type": "code",
   "execution_count": 6,
   "metadata": {},
   "outputs": [],
   "source": [
    "# Rewrite the qst under the form of a sentence \n",
    "\n",
    "# fragementation des questions selon les \",\"\n",
    "fragP1 = []\n",
    "nwQst = ''\n",
    "Spword = False\n",
    "\n",
    "fragQst = splitQst(qst)\n",
    "for icpt in range(len(fragQst)):\n",
    "    # Récupérer les fragements qui contiennent les infos médicales uniquement \n",
    "    if not (fragQst[icpt]==''):\n",
    "        nwQst,Spword = recoverMedFrag(fragQst,icpt,nwQst,Spword)\n",
    "nwQst = nwQst.lstrip()\n",
    "\n",
    "# collect total pour impression dans un fichier \n",
    "nwQstp = ''\n",
    "for j in range(4):\n",
    "    Ans = df[f\"answers.{RepListIndx[j]}\"][cpt] \n",
    "    Ans = Ans.lstrip()\n",
    "    if Spword:\n",
    "        nwQstp = replaceAtFront(Ans) + nwQst + '.'\n",
    "    else:\n",
    "        nwQstp = nwQst + ' '+ Ans.lower() + '.' \n",
    "        # Appliquer la négation \n",
    "    if WrongQst == True:\n",
    "        nwQstp = appliquer_negation(nwQstp.lower())\n",
    "    fragP1.append(nwQstp)\n",
    "    nwQstp = ''\n"
   ]
  },
  {
   "cell_type": "code",
   "execution_count": 7,
   "metadata": {},
   "outputs": [],
   "source": [
    "# add possible respons"
   ]
  },
  {
   "cell_type": "code",
   "execution_count": null,
   "metadata": {},
   "outputs": [],
   "source": [
    "# save all \n",
    "file = open('./output/resultat.txt','w')\n",
    "for item in fragP1:\n",
    "    file.write(item+\"\\n\")     \n",
    "file.close()"
   ]
  }
 ],
 "metadata": {
  "kernelspec": {
   "display_name": "Python 3",
   "language": "python",
   "name": "python3"
  },
  "language_info": {
   "codemirror_mode": {
    "name": "ipython",
    "version": 3
   },
   "file_extension": ".py",
   "mimetype": "text/x-python",
   "name": "python",
   "nbconvert_exporter": "python",
   "pygments_lexer": "ipython3",
   "version": "3.10.6"
  },
  "orig_nbformat": 4
 },
 "nbformat": 4,
 "nbformat_minor": 2
}
