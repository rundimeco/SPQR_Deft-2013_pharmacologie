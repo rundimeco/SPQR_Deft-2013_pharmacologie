{
 "cells": [
  {
   "cell_type": "code",
   "execution_count": null,
   "metadata": {},
   "outputs": [],
   "source": [
    "from processingQst import *\n",
    "\n",
    "from tqdm import tqdm\n",
    "import csv \n",
    "import os.path\n",
    "import re\n",
    "from operator import length_hint"
   ]
  },
  {
   "cell_type": "code",
   "execution_count": null,
   "metadata": {},
   "outputs": [],
   "source": [
    "import csv \n",
    "import os.path\n",
    "import re\n",
    "from operator import length_hint\n",
    "\n",
    "instr  = 'abcdefgh'\n",
    "outstr = '23456789'\n",
    "trans = str.maketrans(instr, outstr)"
   ]
  },
  {
   "cell_type": "code",
   "execution_count": null,
   "metadata": {},
   "outputs": [],
   "source": [
    "\n",
    "with open(\"../data/csv/train.csv\", \"r\") as f:\n",
    "        reader = csv.reader(f, delimiter=\";\")\n",
    "        cpt  = 0\n",
    "        # print(cpt)\n",
    "        fragP1 = []\n",
    "        # récuperation des questions \n",
    "        for i, line in tqdm(enumerate(reader)):\n",
    "            # if(cpt >65):\n",
    "            #     break \n",
    "            if(cpt>0):\n",
    "                lenLine = length_hint(line)\n",
    "                nbrRep = line[lenLine-1]\n",
    "                RepListIndx = line[lenLine-2]\n",
    "                if (nbrRep!=1):\n",
    "                     RepListIndx= RepListIndx.replace('|', '')   \n",
    "                qst = line[1]\n",
    "                # print(line[1])\n",
    "                nwQst = ''\n",
    "                Spword = ''\n",
    "\n",
    "                # Détécter la négation \n",
    "                if(isRequestWrongAns(qst)):\n",
    "                    WrongQst = True \n",
    "                    # print(WrongQst)\n",
    "                else: \n",
    "                    WrongQst = False \n",
    "                    # print(WrongQst)\n",
    "\n",
    "                # fragementation des questions selon les \",\"\n",
    "                fragQst = splitQst(qst)\n",
    "                # print(fragQst)\n",
    "                for icpt in range(len(fragQst)):\n",
    "                    # Récupérer les fragements qui contiennent les infos médicales uniquement \n",
    "                    nwQst,Spword = recoverMedFrag(fragQst,icpt,nwQst,Spword)\n",
    "                nwQst = nwQst.lstrip()\n",
    "                # collect total pour impression dans un fichier \n",
    "                nwQstp = ''\n",
    "                for j in range(int(nbrRep)):\n",
    "                     print(j)\n",
    "                     if Spword == \"Parmi\":\n",
    "                         nwQstp = replaceAtFront(line[int(RepListIndx[j].translate(trans))] ) + nwQst + '.'\n",
    "                     else:\n",
    "                        # print(line[int(RepListIndx[j].translate(trans))])\n",
    "                        nwQstp = nwQst + ' '+ line[int(RepListIndx[j].translate(trans))] + '.'\n",
    "                     # Appliquer la négation \n",
    "                     if WrongQst == True:\n",
    "                        nwQstp = appliquer_negation(nwQst.lower())\n",
    "                     fragP1.append(nwQstp)\n",
    "                     nwQstp = ''\n",
    "            cpt = cpt +1\n",
    "            # print(nwQst)d\n",
    "file = open('./output/CorpusA.txt','w')\n",
    "for item in fragP1:\n",
    "    file.write(item+\"\\n\")     \n",
    "file.close()"
   ]
  }
 ],
 "metadata": {
  "kernelspec": {
   "display_name": "Python 3",
   "language": "python",
   "name": "python3"
  },
  "language_info": {
   "codemirror_mode": {
    "name": "ipython",
    "version": 3
   },
   "file_extension": ".py",
   "mimetype": "text/x-python",
   "name": "python",
   "nbconvert_exporter": "python",
   "pygments_lexer": "ipython3",
   "version": "3.10.6"
  },
  "orig_nbformat": 4
 },
 "nbformat": 4,
 "nbformat_minor": 2
}
