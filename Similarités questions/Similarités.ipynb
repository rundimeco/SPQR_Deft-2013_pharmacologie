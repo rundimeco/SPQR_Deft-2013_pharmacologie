{
 "cells": [
  {
   "cell_type": "markdown",
   "id": "fbb4a9a8",
   "metadata": {},
   "source": [
    "# Résumé de la tâche\n",
    "\n",
    "On a plusieurs éléments sur lesquels travailler à ce stade : \n",
    "- un jeu de données contenant des questions et des réponses\n",
    "- un ensemble de réponses à ces questions\n",
    "- un corpus traitant de sujets médicaux\n",
    "\n",
    "Nous disposons également de plusieurs pistes / contraintes :\n",
    "- une indication du nombre de réponses possibles dans la question (systématique ?)\n",
    "- la présence ou non d'une négation (on recherche ce qui est vrai ou ce qui est faux ?)\n",
    "- le vocabulaire médical extrait de chaque question et chaque réponse\n",
    "\n",
    "# Méthodologie\n",
    "\n",
    "La première piste serait d'extraire les informations utiles des questions, que nous avons déjà mentionnées :\n",
    "- nombre de réponses possibles\n",
    "- négation ou affirmation ?\n",
    "- vocabulaire médical\n",
    "\n",
    "Une fois ces informations extraites des questions, on peut \"unifier\" le vocabulaire de la question avec celui de chaque réponse possible à la question, créant ainsi des ensembles :\n",
    "- Q1 + R1 = E1\n",
    "- Q1 + R2 = E2\n",
    "- Q1 + R3 = E3\n",
    "- Q1 + R4 = E4\n",
    "\n",
    "Cela signifie lier un terme ou plusieurs termes médicaux (celui / ceux de la question) avec d'autres termes médicaux (ceux des réponses). Pour chaque ensemble, on regarde s'il existe dans le corpus une phrase (ou autre unité) qui lie les termes de cet ensemble grâce à une mesure de similarité en Ngrammes de char_wb. Une similarité au mot ferait peu de sens dans ce corpus en vue de la singularité des termes employés.\n",
    "\n",
    "Avec les résultats obtenus, on crée un classement. On regarde ensuite si la question contient une négation et le nombre de réponses indiquées : \n",
    "- si on a 3 résultats à trouver, on prend les trois meilleurs ensembles selon les mesures de similarité\n",
    "- si on a un résultat à trouver et une négation, on prend l'ensemble avec la pire mesure de similarité\n",
    "- si on a 2 résultats et une négation, on prend les deux pires ensembles en terme de mesure de similarité\n",
    "- ...\n",
    "\n",
    "## Extraction du vocabulaire médical\n",
    "\n",
    "Pour extraire le vocabulaire médical des questions et des réponses, plutôt que de trouver un corpus spécialisé assez exhaustif pour contenir tous les tecnolectes médicaux présents dans notre jeu de données, nous effectuons le raisonnement inverse : nous retrouvons les mots médicaux en supprimant tous les mots n'appartenant pas à ce domaine. Pour chaque question et pour chaque réponse, on a ainsi des listes de tecnolectes médicaux.\n",
    "\n",
    "## Détection de la négation (pas terminée)\n",
    "\n",
    "Il existe sûrement une solution avec Spacy (POS tagging -> étiquette \"NEG\" ?).\n",
    "Attention : il peut exister des cas où la négation est présente mais n'indique pas une recherche de résultats \"faux\". \n",
    "\n",
    "## Nombre de bons résultats attendus\n",
    "\n",
    "Voir avec Toufik."
   ]
  }
 ],
 "metadata": {
  "kernelspec": {
   "display_name": "DEFT2023",
   "language": "python",
   "name": "deft2023"
  },
  "language_info": {
   "codemirror_mode": {
    "name": "ipython",
    "version": 3
   },
   "file_extension": ".py",
   "mimetype": "text/x-python",
   "name": "python",
   "nbconvert_exporter": "python",
   "pygments_lexer": "ipython3",
   "version": "3.10.6"
  }
 },
 "nbformat": 4,
 "nbformat_minor": 5
}
