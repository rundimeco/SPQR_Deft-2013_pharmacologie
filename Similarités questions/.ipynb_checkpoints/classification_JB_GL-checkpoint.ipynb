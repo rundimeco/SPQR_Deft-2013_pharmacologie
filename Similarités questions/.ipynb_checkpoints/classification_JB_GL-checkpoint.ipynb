{
 "cells": [
  {
   "cell_type": "markdown",
   "id": "4dc83f71",
   "metadata": {},
   "source": [
    "### TODO\n",
    "\n",
    "- voir si je peux utiliser la classification de Toufik afin de \"nettoyer\" les questions des mots récurrentes (parmi, indiquer, observer, ...). Une comparaison de similarité sur les termes médicaux seulement ?\n",
    "\n",
    "- faire le même traitement avec seulement les similarités obtenues entre les réponses\n",
    "\n",
    "- faire le même traitement avec les similarités combinées des questions et des réponses"
   ]
  },
  {
   "cell_type": "code",
   "execution_count": 1,
   "id": "40819032",
   "metadata": {},
   "outputs": [],
   "source": [
    "#Imports et fonctions\n",
    "\n",
    "import json\n",
    "\n",
    "#from sklearn.feature_extraction.text import TfidfVectorizer\n",
    "from sklearn.feature_extraction.text import CountVectorizer\n",
    "from sklearn.metrics.pairwise import cosine_similarity\n",
    "\n",
    "def cosinus(q,liste_q):\n",
    "    #vect = TfidfVectorizer()\n",
    "    vect = CountVectorizer()\n",
    "    liste_q_vect = vect.fit_transform(liste_q)\n",
    "    doc_term_matrix = liste_q_vect.toarray()\n",
    "\n",
    "    tgt_transform = vect.transform([q]).toarray()\n",
    "    tgt_cosine = cosine_similarity(doc_term_matrix,tgt_transform)\n",
    "    return tgt_cosine\n",
    "\n",
    "def writeJson(path,data):\n",
    "    with open(path,\"w\",encoding='utf-8') as f:\n",
    "        json.dump(data,f,indent=4,ensure_ascii=False) #sans le ensure_ascii on a des erreurs d'encodage sur les accents / char speciaux / emojis sur Windows\n",
    "        \n",
    "def openJson(path):\n",
    "    with open(path,'r',encoding='utf-8') as f:\n",
    "        data = json.load(f)\n",
    "    return data       "
   ]
  },
  {
   "cell_type": "code",
   "execution_count": 10,
   "id": "9b5b0587",
   "metadata": {},
   "outputs": [],
   "source": [
    "#Création d'un corpus de similarités entre questions et entre réponses aux questions (bonnes réponses uniquement)\n",
    "\"\"\"\n",
    "Similarité : cosinus\n",
    "ce qui est comparé : une question avec toutes les autres questions du jeu de données\n",
    "                     les réponses à une question avec toutes les réponses aux autres questions\n",
    "ce qu'on obtient : un dictionnaire avec l'id d'une question Q1, le réponses à Q1, et \n",
    "un subdic avec l'id, les réponses et la similarité de chaque question par rapport à Q1\n",
    "\"\"\"\n",
    "\n",
    "import os\n",
    "import pandas as pd\n",
    "\n",
    "dic = {}\n",
    "df = pd.read_csv(\"../data/csv/train.csv\",delimiter=\";\")\n",
    "\n",
    "ids = []\n",
    "questions = []\n",
    "reponses = []\n",
    "total_reponses = []\n",
    "\n",
    "for i in range(len(df)):\n",
    "    ids.append(df[\"id\"][i])\n",
    "    questions.append(df[\"question\"][i])\n",
    "    reponses.append(\" | \".join([df[f\"answers.{l}\"][i] for l in df[\"correct_answers\"][i].split(\"|\")]))\n",
    "    total_reponses.append(df[\"correct_answers\"][i])\n",
    "\n",
    "for i,idd in enumerate(ids):\n",
    "    dic[idd] = {\"reponses\":total_reponses[i],\"similarités\":{}}\n",
    "    \n",
    "    resQ = [list(s) for s in cosinus(questions[i],questions)]\n",
    "    resR = [list(s) for s in cosinus(reponses[i],reponses)]\n",
    "    \n",
    "    for j,idd2 in enumerate(ids):\n",
    "        dic[idd][\"similarités\"][idd2] = {\"reponses\":total_reponses[j],\"simQ\":resQ[j][0],\"simR\":resR[j][0]}\n",
    "\n",
    "writeJson(\"sims.json\",dic)"
   ]
  },
  {
   "cell_type": "code",
   "execution_count": 17,
   "id": "c47a8ef5",
   "metadata": {},
   "outputs": [],
   "source": [
    "#Tri des questions par mesure de similarité\n",
    "\n",
    "data = openJson(\"sims.json\")\n",
    "\n",
    "similarities_clusters = []\n",
    "\n",
    "for idQ, subdic in data.items():\n",
    "    sim_clus = []\n",
    "    for k,v in subdic[\"similarités\"].items():\n",
    "        if v[\"simQ\"] > 0.8:\n",
    "            sim_clus.append(k)\n",
    "    similarities_clusters.append(sim_clus)\n",
    "\n",
    "similarities_clusters_clean = []\n",
    "for l in similarities_clusters:\n",
    "    if len(l) > 1:\n",
    "        similarities_clusters_clean.append(l)\n",
    "    \n",
    "#on sauvegarde les clusters en supprimant les clusters similaires ET LES CLUSTERS D'UN ELEMENT\n",
    "writeJson(\"cluster_by_question_similarities.json\",[list(item) for item in set(tuple(row) for row in similarities_clusters_clean)]) "
   ]
  },
  {
   "cell_type": "code",
   "execution_count": 3,
   "id": "73f1d71d",
   "metadata": {},
   "outputs": [
    {
     "ename": "NameError",
     "evalue": "name 'question_list' is not defined",
     "output_type": "error",
     "traceback": [
      "\u001b[0;31m---------------------------------------------------------------------------\u001b[0m",
      "\u001b[0;31mNameError\u001b[0m                                 Traceback (most recent call last)",
      "Cell \u001b[0;32mIn[3], line 14\u001b[0m\n\u001b[1;32m     11\u001b[0m             new_l\u001b[38;5;241m.\u001b[39mappend(df[\u001b[38;5;124m\"\u001b[39m\u001b[38;5;124mquestion\u001b[39m\u001b[38;5;124m\"\u001b[39m][i])\n\u001b[1;32m     12\u001b[0m     questions_list\u001b[38;5;241m.\u001b[39mappend(new_l)\n\u001b[0;32m---> 14\u001b[0m writeJson(\u001b[38;5;124m\"\u001b[39m\u001b[38;5;124mquestions.json\u001b[39m\u001b[38;5;124m\"\u001b[39m,\u001b[43mquestion_list\u001b[49m) \n",
      "\u001b[0;31mNameError\u001b[0m: name 'question_list' is not defined"
     ]
    }
   ],
   "source": [
    "import pandas as pd\n",
    "\n",
    "df = pd.read_csv(\"../data/csv/train.csv\",delimiter=\";\")\n",
    "data = openJson(\"cluster_by_question_similarities.json\")\n",
    "\n",
    "questions_list = []\n",
    "for l in data:\n",
    "    new_l = []\n",
    "    for i in range(len(df)):\n",
    "        if df[\"id\"][i] in l:\n",
    "            new_l.append(df[\"question\"][i])\n",
    "    questions_list.append(new_l)\n",
    "    \n",
    "writeJson(\"questions.json\",questions_list) "
   ]
  }
 ],
 "metadata": {
  "kernelspec": {
   "display_name": "DEFT2023",
   "language": "python",
   "name": "deft2023"
  },
  "language_info": {
   "codemirror_mode": {
    "name": "ipython",
    "version": 3
   },
   "file_extension": ".py",
   "mimetype": "text/x-python",
   "name": "python",
   "nbconvert_exporter": "python",
   "pygments_lexer": "ipython3",
   "version": "3.10.6"
  }
 },
 "nbformat": 4,
 "nbformat_minor": 5
}
