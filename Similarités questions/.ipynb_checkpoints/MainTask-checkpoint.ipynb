{
 "cells": [
  {
   "cell_type": "code",
   "execution_count": 18,
   "id": "74eb40b8",
   "metadata": {},
   "outputs": [],
   "source": [
    "#Imports et fonctions\n",
    "\n",
    "import re\n",
    "import json\n",
    "import glob\n",
    "import pandas as pd\n",
    "import string as strii\n",
    "\n",
    "#from sklearn.feature_extraction.text import TfidfVectorizer\n",
    "#from sklearn.metrics.pairwise import cosine_similarity\n",
    "from sklearn.feature_extraction.text import CountVectorizer\n",
    "from sklearn.metrics import pairwise_kernels\n",
    "\n",
    "import spacy\n",
    "sp = spacy.load(\"fr_core_news_sm\")\n",
    "\n",
    "def removePunct(string):\n",
    "    return string.translate(str.maketrans(strii.punctuation, ' '*len(strii.punctuation))) #map punctuation to space\n",
    "\n",
    "def tokenizer(string):\n",
    "    spacy_object = sp(string)\n",
    "    return [word.text for word in spacy_object if word.is_stop == False] #and word.pos_ != \"PUNCT\" and word.pos_ != \"NUM\"\n",
    "\n",
    "def getKeywords(string,liste_mots,liste_keywords):\n",
    "    keywords = []\n",
    "    for word in tokenizer(removePunct(string)):\n",
    "            word = re.sub(\" *\",\"\",word)\n",
    "            if len(word) > 1:\n",
    "                if word.lower() not in liste_mots:\n",
    "                    keywords.append(word)\n",
    "                elif word.lower() in liste_keywords:\n",
    "                    keywords.append(word)\n",
    "    return keywords\n",
    "\n",
    "def cosine_similarity(vec,target,liste):\n",
    "    return pairwise_kernels(vec.transform([target]),liste,metric='cosine')\n",
    "\n",
    "def writeJson(path,data):\n",
    "    with open(path,\"w\",encoding='utf-8') as f:\n",
    "        json.dump(data,f,indent=4,ensure_ascii=False)\n",
    "\n",
    "def cleanOutputFile(path):\n",
    "    with open(path, 'w',encoding='utf-8') as f:\n",
    "        f.write(\"\")         \n",
    "\n",
    "def writeOutputFile(path,string):\n",
    "    with open(path, 'a',encoding='utf-8') as f:\n",
    "        f.write(f\"{string}\\n\")        \n",
    "        \n",
    "def openJson(path):\n",
    "    with open(path,'r',encoding='utf-8') as f:\n",
    "        data = json.load(f)\n",
    "    return data       "
   ]
  },
  {
   "cell_type": "code",
   "execution_count": 19,
   "id": "f4d4b06e",
   "metadata": {},
   "outputs": [],
   "source": [
    "def createResFile(dataset,dataref,min_gram,max_gram,analyzer,seuils):\n",
    "    \n",
    "    V = CountVectorizer(lowercase=True,ngram_range=(min_gram,max_gram),analyzer=analyzer)\n",
    "    X = V.fit_transform(dataref)\n",
    "    print(\"Vectorization done\")\n",
    "\n",
    "    counter = 0\n",
    "    total = len(dataset.keys())\n",
    "\n",
    "    for key, listes in dataset.items():\n",
    "        \n",
    "        good_res_maxi = []\n",
    "        old_maxi = 0\n",
    "        \n",
    "        good_res_seuil = {}\n",
    "        nb_answers = {}\n",
    "\n",
    "        counter += 1\n",
    "        print(f\"{counter}/{total}\",end=\"\\r\")\n",
    "\n",
    "        for i,question_reponse in enumerate(listes):\n",
    "            question_reponse = \" \".join(question_reponse)\n",
    "\n",
    "            cos = list(cosine_similarity(V,question_reponse,X)[0])\n",
    "            maxi = max(cos)\n",
    "\n",
    "            if maxi >= old_maxi:\n",
    "                old_maxi = maxi\n",
    "                good_res_maxi = [str(i)]\n",
    "            \n",
    "            for seuil in seuils:\n",
    "                \n",
    "                if str(seuil) not in good_res_seuil:\n",
    "                    good_res_seuil[str(seuil)] = []\n",
    "                    \n",
    "                if str(seuil) not in nb_answers:\n",
    "                    nb_answers[str(seuil)] = 0\n",
    "                    \n",
    "                if max(cos) >= seuil:\n",
    "                    good_res_seuil[str(seuil)].append(str(i))\n",
    "                    nb_answers[str(seuil)] += 1\n",
    "\n",
    "        good_res_maxi = good_res_maxi[0].replace(\"0\",\"a\").replace(\"1\",\"b\").replace(\"2\",\"c\").replace(\"3\",\"d\").replace(\"4\",\"e\")\n",
    "        writeOutputFile(f\"output/mainTask/BYMAX_{min_gram}-{max_gram}_{analyzer}_taskPrincipale.csv\",f\"{key};{good_res_maxi}\")\n",
    "        writeOutputFile(f\"output/mainTask/BYMAX_{min_gram}-{max_gram}_{analyzer}_taskAnnexe.csv\",f\"{key};1\")\n",
    "        \n",
    "        for k,v in good_res_seuil.items():\n",
    "            good_res = \"|\".join(v).replace(\"0\",\"a\").replace(\"1\",\"b\").replace(\"2\",\"c\").replace(\"3\",\"d\").replace(\"4\",\"e\")\n",
    "            writeOutputFile(f\"output/mainTask/BYSEUIL_{min_gram}-{max_gram}_{analyzer}_{k}_taskPrincipale.csv\",f\"{key};{good_res}\")\n",
    "            writeOutputFile(f\"output/mainTask/BYSEUIL_{min_gram}-{max_gram}_{analyzer}_{k}_taskAnnexe.csv\",f\"{key};{nb_answers[k]}\")"
   ]
  },
  {
   "cell_type": "code",
   "execution_count": 22,
   "id": "266d7766",
   "metadata": {},
   "outputs": [
    {
     "name": "stdout",
     "output_type": "stream",
     "text": [
      "Vectorization done\n",
      "2170/2170\n",
      "Vectorization done\n",
      "2170/2170\n"
     ]
    }
   ],
   "source": [
    "for file in glob.glob(\"output/mainTask/*.csv\"):\n",
    "    cleanOutputFile(file)\n",
    "\n",
    "dataset = openJson(\"output/similarités/vocByQuestions.json\")\n",
    "#dataset = openJson(\"output/similarités/test.json\")\n",
    "dataref = [\" \".join(liste) for liste in openJson(\"output/corpusRef/manuelMerckSentencesKeywords.json\")][:3]\n",
    "\n",
    "min_grams = [1]\n",
    "max_grams = [2,3]\n",
    "analyzers = [\"char_wb\"]\n",
    "seuils = [0.5,0.6,0.7,0.8,0.9]\n",
    "\n",
    "for min_gram in min_grams:\n",
    "    for max_gram in max_grams:\n",
    "        for analyzer in analyzers:\n",
    "            createResFile(dataset,dataref,min_gram,max_gram,analyzer,seuils)\n",
    "            print()"
   ]
  },
  {
   "cell_type": "code",
   "execution_count": 24,
   "id": "b36cf117",
   "metadata": {},
   "outputs": [
    {
     "name": "stdout",
     "output_type": "stream",
     "text": [
      "['output', 'listeTri', 'laliste.machin.txt']\n"
     ]
    }
   ],
   "source": [
    "listeTri = \"output/listeTri/laliste.machin.txt\"\n",
    "print(listeTri.split('/')[-1])"
   ]
  },
  {
   "cell_type": "code",
   "execution_count": 23,
   "id": "9f3ec6a5",
   "metadata": {},
   "outputs": [],
   "source": [
    "import glob\n",
    "import subprocess\n",
    "\n",
    "#cleanOutputFile(\"output/evaluationQA/results.txt\")\n",
    "\n",
    "for file in glob.glob(\"output/mainTask/*taskPrincipale.csv\"):\n",
    "    cmd = f\"python3 EvaluationQA.py --references='evaluation/train_main.csv' --predictions='{file}'\"\n",
    "    p = subprocess.Popen(cmd, stdout=subprocess.PIPE, shell=True)\n",
    "    out, err = p.communicate() \n",
    "    #result = out.split()\n",
    "    #for lin in result:\n",
    "        #print(lin)"
   ]
  }
 ],
 "metadata": {
  "kernelspec": {
   "display_name": "DEFT2023",
   "language": "python",
   "name": "deft2023"
  },
  "language_info": {
   "codemirror_mode": {
    "name": "ipython",
    "version": 3
   },
   "file_extension": ".py",
   "mimetype": "text/x-python",
   "name": "python",
   "nbconvert_exporter": "python",
   "pygments_lexer": "ipython3",
   "version": "3.10.6"
  }
 },
 "nbformat": 4,
 "nbformat_minor": 5
}
