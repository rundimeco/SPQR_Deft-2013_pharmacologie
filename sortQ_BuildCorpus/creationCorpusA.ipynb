{
 "cells": [
  {
   "cell_type": "code",
   "execution_count": null,
   "metadata": {},
   "outputs": [],
   "source": [
    "from processingQst import MedTermDectection \n",
    "from processingQst import isRequestWrongAns\n"
   ]
  },
  {
   "cell_type": "code",
   "execution_count": null,
   "metadata": {},
   "outputs": [],
   "source": [
    "# test \n",
    "\n",
    "# question = \"Parmi les affirmations suivantes, une seule est fausse, indiquer laquelle\"\n",
    "\n",
    "# if isRequestWrongAns(question):\n",
    "#     print(\"La question demande une réponse fausse.\")\n",
    "# else:\n",
    "#     print(\"La question ne demande pas une réponse fausse.\")\n"
   ]
  },
  {
   "cell_type": "code",
   "execution_count": null,
   "metadata": {},
   "outputs": [],
   "source": [
    "# test \n",
    "\n",
    "# from apply_negation import negation\n",
    "# sentence = \"les particules sont formées de noyaux d'hélium\"\n",
    "# print(negation(sentence))"
   ]
  },
  {
   "cell_type": "code",
   "execution_count": null,
   "metadata": {},
   "outputs": [],
   "source": [
    "import csv \n",
    "import os.path\n",
    "from operator import length_hint\n",
    "\n",
    "instr  = 'abcdefgh'\n",
    "outstr = '23456789'\n",
    "trans = str.maketrans(instr, outstr)"
   ]
  },
  {
   "cell_type": "code",
   "execution_count": null,
   "metadata": {},
   "outputs": [],
   "source": [
    "\n",
    "with open(\"../training_scripts/Data/csv/train.csv\", \"r\") as f:\n",
    "        reader = csv.reader(f, delimiter=\";\")\n",
    "        cpt  = 0\n",
    "        fragP1 = []\n",
    "        # récuperation des questions \n",
    "        for i, line in enumerate(reader):\n",
    "            # if (cpt >2):\n",
    "            #     break \n",
    "            if(cpt>0):\n",
    "                # print(cpt)\n",
    "                lenLine = length_hint(line)\n",
    "                nbrRep = line[lenLine-1]\n",
    "                RepListIndx = line[lenLine-2]\n",
    "                if (nbrRep!=1):\n",
    "                     RepListIndx= RepListIndx.replace('|', '')   \n",
    "                qst = line[1]\n",
    "                # print(line[1])\n",
    "                nwQst = ''\n",
    "\n",
    "                # Détécter la négation \n",
    "                print(isRequestWrongAns(qst))\n",
    "                if(isRequestWrongAns(qst)):\n",
    "                    WrongQst = True \n",
    "                else:\n",
    "                    WrongQst = False \n",
    "\n",
    "                # fragementation des questions selon les \",\"\n",
    "                fragQst = qst.split(\",\")\n",
    "\n",
    "                for icpt in range(len(fragQst)):\n",
    "                     # Récupérer les fragements qui contiennent les infos médicales uniquements \n",
    "                     var = MedTermDectection(fragQst[icpt])\n",
    "                     if (var):\n",
    "                          nwQst = nwQst + ' ' + fragQst[icpt]\n",
    "\n",
    "                # print(nwQst)\n",
    "                nwQst = nwQst.lstrip()\n",
    "\n",
    "                # et en appliquant la négation si besoin\n",
    "                if WrongQst == True:\n",
    "                    print(\"TODO: appliquer la négation\")\n",
    "                    nwQst = 'Ceci est faux : ' +  nwQst\n",
    "                #   negation(nwQst)\n",
    "\n",
    "                \n",
    "                # print(fragQst)\n",
    "                # collect total pour impression dans un fichier \n",
    "                for j in range(len(nbrRep)):\n",
    "                     fragP1.append(nwQst+' '+line[int(RepListIndx[j].translate(trans))])\n",
    "            cpt = cpt +1\n",
    "file = open('CorpusA.txt','w')\n",
    "for item in fragP1:\n",
    "    file.write(item+\"\\n\")     \n",
    "file.close()"
   ]
  }
 ],
 "metadata": {
  "kernelspec": {
   "display_name": "Python 3",
   "language": "python",
   "name": "python3"
  },
  "language_info": {
   "codemirror_mode": {
    "name": "ipython",
    "version": 3
   },
   "file_extension": ".py",
   "mimetype": "text/x-python",
   "name": "python",
   "nbconvert_exporter": "python",
   "pygments_lexer": "ipython3",
   "version": "3.10.6"
  },
  "orig_nbformat": 4
 },
 "nbformat": 4,
 "nbformat_minor": 2
}
