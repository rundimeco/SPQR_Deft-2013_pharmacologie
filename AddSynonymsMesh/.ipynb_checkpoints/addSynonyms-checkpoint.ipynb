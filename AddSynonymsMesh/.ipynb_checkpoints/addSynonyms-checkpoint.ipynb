{
 "cells": [
  {
   "cell_type": "code",
   "execution_count": null,
   "id": "46594792",
   "metadata": {},
   "outputs": [],
   "source": [
    "import pandas as pd"
   ]
  },
  {
   "cell_type": "code",
   "execution_count": null,
   "id": "ccf04e8d",
   "metadata": {},
   "outputs": [],
   "source": [
    "df = pd.read_json('/content/vocabulaire.json')"
   ]
  },
  {
   "cell_type": "code",
   "execution_count": null,
   "id": "94035547",
   "metadata": {},
   "outputs": [],
   "source": [
    "df1 = pd.read_csv(\"/content/train.csv\", sep=';')"
   ]
  },
  {
   "cell_type": "code",
   "execution_count": null,
   "id": "861ae699",
   "metadata": {},
   "outputs": [],
   "source": [
    "df1['correct_answers']"
   ]
  },
  {
   "cell_type": "code",
   "execution_count": null,
   "id": "ddf6059d",
   "metadata": {},
   "outputs": [],
   "source": [
    "df1"
   ]
  },
  {
   "cell_type": "code",
   "execution_count": null,
   "id": "ec46e179",
   "metadata": {},
   "outputs": [],
   "source": [
    "df2 = pd.read_csv(\"/content/MSHFRE.csv\", encoding='cp1252')"
   ]
  },
  {
   "cell_type": "code",
   "execution_count": null,
   "id": "d7528b43",
   "metadata": {},
   "outputs": [],
   "source": [
    "df2[\"Preferred Label\"]"
   ]
  },
  {
   "cell_type": "code",
   "execution_count": null,
   "id": "a34c0c92",
   "metadata": {},
   "outputs": [],
   "source": [
    "#@title Titre par défaut\n",
    "L1 = []\n",
    "L2 = []"
   ]
  },
  {
   "cell_type": "code",
   "execution_count": null,
   "id": "e90480a9",
   "metadata": {},
   "outputs": [],
   "source": [
    "count=0\n",
    "for i in df[0].values:\n",
    "  t=0\n",
    "  s=''\n",
    "  print(count)\n",
    "  for j in range(0, 29351):\n",
    "    if i in df2[\"Preferred Label\"][j]:\n",
    "      t=1\n",
    "      s=s+str(df2[\"Synonyms\"][j])\n",
    "  L1.append(i)\n",
    "  if t == 1:\n",
    "    L2.append(s)\n",
    "  else:\n",
    "    L2.append('')\n",
    "  count = count+1"
   ]
  },
  {
   "cell_type": "code",
   "execution_count": null,
   "id": "601388d9",
   "metadata": {},
   "outputs": [],
   "source": [
    "df3 = pd.DataFrame(list(zip(L1, L2)),\n",
    "               columns =['Term', 'Synonyms'])"
   ]
  },
  {
   "cell_type": "code",
   "execution_count": null,
   "id": "065cd06a",
   "metadata": {},
   "outputs": [],
   "source": [
    "df3"
   ]
  },
  {
   "cell_type": "code",
   "execution_count": null,
   "id": "2ba4465e",
   "metadata": {},
   "outputs": [],
   "source": [
    "df3.to_csv('data.csv',index=False)"
   ]
  },
  {
   "cell_type": "code",
   "execution_count": null,
   "id": "8beee78f",
   "metadata": {},
   "outputs": [],
   "source": [
    "df4 = pd.read_csv(\"/content/data.csv\", sep=',')"
   ]
  },
  {
   "cell_type": "code",
   "execution_count": null,
   "id": "e42c2a08",
   "metadata": {},
   "outputs": [],
   "source": [
    "df4"
   ]
  }
 ],
 "metadata": {
  "kernelspec": {
   "display_name": "Python 3 (ipykernel)",
   "language": "python",
   "name": "python3"
  },
  "language_info": {
   "codemirror_mode": {
    "name": "ipython",
    "version": 3
   },
   "file_extension": ".py",
   "mimetype": "text/x-python",
   "name": "python",
   "nbconvert_exporter": "python",
   "pygments_lexer": "ipython3",
   "version": "3.10.6"
  }
 },
 "nbformat": 4,
 "nbformat_minor": 5
}
